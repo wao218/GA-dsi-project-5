{
 "cells": [
  {
   "cell_type": "markdown",
   "metadata": {
    "id": "AxgtT79dgW4L"
   },
   "source": [
    "<img src=\"http://imgur.com/1ZcRyrc.png\" style=\"float: left; margin: 20px; height: 55px\">\n",
    "\n",
    "# Project 5: Alzheimer's Image Classification\n",
    "\n",
    "---\n",
    "## Problem Statement\n",
    "\n",
    "You are a data science team that has been tasked by the UK government to develop a diagnostic solution that can improve the prediction rates of dementia and Alzheimer's within UK hospitals.  Using a Convolutional Neural Network on brain scan imaging, our group wishes to predict Alzheimer's disease with at least 50% accuracy and a recall of at least 64%. This metric is benchmarked to the average diagnostic performance of hospitals across the UK for patients, and an improvement in detection here can mean better outcomes and care for those within its early stages.\n",
    "\n",
    "---"
   ]
  },
  {
   "cell_type": "markdown",
   "metadata": {},
   "source": [
    "## Section 05 - Best Model Evaluation\n",
    "\n",
    "---"
   ]
  },
  {
   "cell_type": "code",
   "execution_count": 1,
   "metadata": {
    "colab": {
     "base_uri": "https://localhost:8080/"
    },
    "id": "EetieFZ6aMwb",
    "outputId": "356e05cc-8cba-4e9a-d3c2-682684632730"
   },
   "outputs": [
    {
     "name": "stdout",
     "output_type": "stream",
     "text": [
      "Mounted at /content/drive\n"
     ]
    }
   ],
   "source": [
    "from google.colab import drive\n",
    "drive.mount('/content/drive')\n"
   ]
  },
  {
   "cell_type": "code",
   "execution_count": 2,
   "metadata": {
    "colab": {
     "base_uri": "https://localhost:8080/"
    },
    "id": "aFHEY0g8RtW7",
    "outputId": "85311bdf-db34-4206-c542-f6c10c01f064"
   },
   "outputs": [
    {
     "name": "stdout",
     "output_type": "stream",
     "text": [
      "Tensorflow version 2.6.0\n",
      "Found GPU at: /device:GPU:0\n"
     ]
    }
   ],
   "source": [
    "%tensorflow_version 2.x\n",
    "import tensorflow as tf\n",
    "print(\"Tensorflow version \" + tf.__version__)\n",
    "device_name = tf.test.gpu_device_name()\n",
    "if device_name != '/device:GPU:0':\n",
    "  raise SystemError('GPU device not found')\n",
    "print('Found GPU at: {}'.format(device_name))"
   ]
  },
  {
   "cell_type": "markdown",
   "metadata": {
    "tags": []
   },
   "source": [
    "### Imports"
   ]
  },
  {
   "cell_type": "code",
   "execution_count": 15,
   "metadata": {
    "id": "s9RxIgT5alfU"
   },
   "outputs": [],
   "source": [
    "# Imports\n",
    "import numpy as np\n",
    "import pandas as pd\n",
    "import matplotlib.pyplot as plt\n",
    "import seaborn as sns\n",
    "\n",
    "from tensorflow.keras.preprocessing.image import ImageDataGenerator\n",
    "from tensorflow.keras.models import load_model"
   ]
  },
  {
   "cell_type": "markdown",
   "metadata": {
    "id": "gS9FZ83rgpXu"
   },
   "source": [
    "## Neural Network Model Evaluations"
   ]
  },
  {
   "cell_type": "markdown",
   "metadata": {
    "id": "fmbFIa7QyHOs"
   },
   "source": [
    "### Test Data"
   ]
  },
  {
   "cell_type": "code",
   "execution_count": 9,
   "metadata": {
    "colab": {
     "base_uri": "https://localhost:8080/"
    },
    "id": "Q3dONkp6gAnF",
    "outputId": "bf7838c3-08d1-42c7-9135-4b540b13d4d6"
   },
   "outputs": [
    {
     "name": "stdout",
     "output_type": "stream",
     "text": [
      "Found 1279 images belonging to 4 classes.\n",
      "19\n"
     ]
    }
   ],
   "source": [
    "# Create Test and Train \n",
    "\n",
    "test_datagen = ImageDataGenerator(rescale=1.0/255)\n",
    "\n",
    "test_dir = '/content/drive/MyDrive/data/test'\n",
    "img_width = 176\n",
    "img_height = 208\n",
    "\n",
    "test_gen = test_datagen.flow_from_directory(\n",
    "    test_dir,\n",
    "    target_size=(img_height, img_width),\n",
    "    batch_size=64,\n",
    "    class_mode='categorical',\n",
    "    seed=42\n",
    ")\n",
    "\n",
    "steps = test_gen.samples // test_gen.batch_size\n",
    "print(steps)"
   ]
  },
  {
   "cell_type": "markdown",
   "metadata": {
    "id": "ZDfBkfNPer8t"
   },
   "source": [
    "Base line accuracy is 50%"
   ]
  },
  {
   "cell_type": "markdown",
   "metadata": {
    "id": "NemTgUlVife1"
   },
   "source": [
    "### Fine Tuned Basic Model"
   ]
  },
  {
   "cell_type": "code",
   "execution_count": 5,
   "metadata": {
    "id": "2wRTiFDmijhp"
   },
   "outputs": [],
   "source": [
    "basic_model = load_model('/content/drive/MyDrive/project-5/tuned-basic-model.h5')"
   ]
  },
  {
   "cell_type": "code",
   "execution_count": 11,
   "metadata": {
    "colab": {
     "base_uri": "https://localhost:8080/"
    },
    "id": "DtiIPL_TjeQa",
    "outputId": "ad9f5b95-0d75-46d5-eb2e-1756262a6b57"
   },
   "outputs": [
    {
     "name": "stdout",
     "output_type": "stream",
     "text": [
      "19/19 [==============================] - 362s 19s/step - loss: 3.0569 - accuracy: 0.7204 - precision: 0.7210 - recall: 0.7204\n"
     ]
    }
   ],
   "source": [
    "with tf.device('/device:GPU:0'):\n",
    "  basic_loss, basic_acc, basic_prec, basic_recall = basic_model.evaluate(test_gen, steps=steps, verbose=1)"
   ]
  },
  {
   "cell_type": "markdown",
   "metadata": {
    "id": "NhzqAgsbikua"
   },
   "source": [
    "### InceptionV3 Model"
   ]
  },
  {
   "cell_type": "code",
   "execution_count": 6,
   "metadata": {
    "id": "moJL64sMiohE"
   },
   "outputs": [],
   "source": [
    "iv3_model = load_model('/content/drive/MyDrive/project-5/inceptionv3-model.h5')"
   ]
  },
  {
   "cell_type": "code",
   "execution_count": 12,
   "metadata": {
    "colab": {
     "base_uri": "https://localhost:8080/"
    },
    "id": "UH-eMU9zmYw2",
    "outputId": "5536bd14-9dd3-428d-c566-460450d8f308"
   },
   "outputs": [
    {
     "name": "stdout",
     "output_type": "stream",
     "text": [
      "19/19 [==============================] - 4s 122ms/step - loss: 1.4929 - accuracy: 0.5929 - precision: 0.6159 - recall: 0.5592\n"
     ]
    }
   ],
   "source": [
    "with tf.device('/device:GPU:0'):\n",
    "  iv3_loss, iv3_acc, iv3_prec, iv3_recall = iv3_model.evaluate(test_gen, steps=steps, verbose=1)"
   ]
  },
  {
   "cell_type": "markdown",
   "metadata": {
    "id": "TQi_uCosipKd"
   },
   "source": [
    "### MobileNetV3 Model"
   ]
  },
  {
   "cell_type": "code",
   "execution_count": 7,
   "metadata": {
    "id": "jG3rdM-zirgV"
   },
   "outputs": [],
   "source": [
    "mnv3_model = load_model('/content/drive/MyDrive/project-5/mobilenetv3-model.h5')"
   ]
  },
  {
   "cell_type": "code",
   "execution_count": 33,
   "metadata": {
    "colab": {
     "base_uri": "https://localhost:8080/"
    },
    "id": "5hfsTFcBjcqg",
    "outputId": "4ae4f3cf-4a63-4f18-eb95-d4032d9592c0"
   },
   "outputs": [
    {
     "name": "stdout",
     "output_type": "stream",
     "text": [
      "19/19 [==============================] - 2s 122ms/step - loss: 0.9869 - accuracy: 0.5058 - precision: 0.6074 - recall: 0.3372\n"
     ]
    }
   ],
   "source": [
    "with tf.device('/device:GPU:0'):\n",
    "  mnv3_loss, mnv3_acc, mnv3_prec, mnv3_recall = mnv3_model.evaluate(test_gen, steps=steps, verbose=1)"
   ]
  },
  {
   "cell_type": "markdown",
   "metadata": {
    "id": "kFsVtA9vnmqA"
   },
   "source": [
    "### Model Scores Visualized"
   ]
  },
  {
   "cell_type": "code",
   "execution_count": 18,
   "metadata": {
    "id": "t4cATSdbqKKI"
   },
   "outputs": [],
   "source": [
    "models = ['Basic Model', 'InceptionV3', 'MobileNetV3']"
   ]
  },
  {
   "cell_type": "code",
   "execution_count": 36,
   "metadata": {
    "colab": {
     "base_uri": "https://localhost:8080/",
     "height": 530
    },
    "id": "aVMKjk64okjn",
    "outputId": "64328920-c6e5-4b74-ca58-baa8eaf6fd49"
   },
   "outputs": [
    {
     "data": {
      "image/png": "[encoded data removed]",
      "text/plain": [
       "<Figure size 864x576 with 1 Axes>"
      ]
     },
     "metadata": {
      "needs_background": "light"
     },
     "output_type": "display_data"
    }
   ],
   "source": [
    "# Plot accuracy values to compare models\n",
    "acc_values = [basic_acc, iv3_acc, mnv3_acc]\n",
    "\n",
    "plt.figure(figsize=(12, 8))\n",
    "\n",
    "x_pos = [i for i, _ in enumerate(models)]\n",
    "\n",
    "plt.bar(x_pos, acc_values)\n",
    "plt.xlabel('Models', fontsize=18)\n",
    "plt.ylabel('Accuracy Scores', fontsize=18)\n",
    "plt.title('Basic vs. InceptionV3 vs. MobileNetV3 Model Accuracy', fontsize=20)\n",
    "\n",
    "plt.xticks(x_pos, models, fontsize=14);"
   ]
  },
  {
   "cell_type": "code",
   "execution_count": 37,
   "metadata": {
    "colab": {
     "base_uri": "https://localhost:8080/",
     "height": 530
    },
    "id": "2pInQXOTnezv",
    "outputId": "82d3b38c-cebf-4ce6-d6b7-8ce0abe477d2"
   },
   "outputs": [
    {
     "data": {
      "image/png": "[encoded data removed]",
      "text/plain": [
       "<Figure size 864x576 with 1 Axes>"
      ]
     },
     "metadata": {
      "needs_background": "light"
     },
     "output_type": "display_data"
    }
   ],
   "source": [
    "# Plot loss values to compare models\n",
    "loss_values = [basic_loss, iv3_loss, mnv3_loss]\n",
    "\n",
    "plt.figure(figsize=(12, 8))\n",
    "\n",
    "x_pos = [i for i, _ in enumerate(models)]\n",
    "\n",
    "plt.bar(x_pos, loss_values)\n",
    "plt.xlabel('Models', fontsize=18)\n",
    "plt.ylabel('Loss Scores', fontsize=18)\n",
    "plt.title('Basic vs. InceptionV3 vs. MobileNetV3 Model Loss', fontsize=20)\n",
    "\n",
    "plt.xticks(x_pos, models, fontsize=14);"
   ]
  },
  {
   "cell_type": "code",
   "execution_count": 38,
   "metadata": {
    "colab": {
     "base_uri": "https://localhost:8080/",
     "height": 530
    },
    "id": "NM7NrxaArDbQ",
    "outputId": "0d29010c-b1ab-4519-9ce5-f17e6c73bbd8"
   },
   "outputs": [
    {
     "data": {
      "image/png": "[encoded data removed]",
      "text/plain": [
       "<Figure size 864x576 with 1 Axes>"
      ]
     },
     "metadata": {
      "needs_background": "light"
     },
     "output_type": "display_data"
    }
   ],
   "source": [
    "# Plot precision values to compare models\n",
    "prec_values = [basic_prec, iv3_prec, mnv3_prec]\n",
    "\n",
    "plt.figure(figsize=(12, 8))\n",
    "\n",
    "x_pos = [i for i, _ in enumerate(models)]\n",
    "\n",
    "plt.bar(x_pos, prec_values)\n",
    "plt.xlabel('Models', fontsize=18)\n",
    "plt.ylabel('Precision Scores', fontsize=18)\n",
    "plt.title('Basic vs. InceptionV3 vs. MobileNetV3 Precision', fontsize=20)\n",
    "\n",
    "plt.xticks(x_pos, models, fontsize=14);"
   ]
  },
  {
   "cell_type": "code",
   "execution_count": 39,
   "metadata": {
    "colab": {
     "base_uri": "https://localhost:8080/",
     "height": 530
    },
    "id": "e88JDz0-sMmZ",
    "outputId": "3885d651-ad61-4f27-d17c-2f25ec5aa62c"
   },
   "outputs": [
    {
     "data": {
      "image/png": "[encoded data removed]",
      "text/plain": [
       "<Figure size 864x576 with 1 Axes>"
      ]
     },
     "metadata": {
      "needs_background": "light"
     },
     "output_type": "display_data"
    }
   ],
   "source": [
    "# Plot recall values to compare models\n",
    "recall_values = [basic_recall, iv3_recall, mnv3_recall]\n",
    "\n",
    "plt.figure(figsize=(12, 8))\n",
    "\n",
    "x_pos = [i for i, _ in enumerate(models)]\n",
    "\n",
    "plt.bar(x_pos, recall_values)\n",
    "plt.xlabel('Models', fontsize=18)\n",
    "plt.ylabel('Recall Scores', fontsize=18)\n",
    "plt.title('Basic vs. InceptionV3 vs. MobileNetV3 Recall', fontsize=20)\n",
    "\n",
    "plt.xticks(x_pos, models, fontsize=14);"
   ]
  },
  {
   "cell_type": "markdown",
   "metadata": {
    "id": "Em-RhCzctDG0"
   },
   "source": [
    "The best performing model was the basic fine tuned model. It outperformed the InceptionV3 and MobileNetV3 models. It had an overall accuracy, precision, and recall of 72%"
   ]
  },
  {
   "cell_type": "code",
   "execution_count": null,
   "metadata": {
    "id": "E0dFE5hVsodd"
   },
   "outputs": [],
   "source": []
  }
 ],
 "metadata": {
  "accelerator": "GPU",
  "colab": {
   "collapsed_sections": [],
   "name": "05-best-model-evaluations.ipynb",
   "provenance": []
  },
  "kernelspec": {
   "display_name": "Python 3",
   "language": "python",
   "name": "python3"
  },
  "language_info": {
   "codemirror_mode": {
    "name": "ipython",
    "version": 3
   },
   "file_extension": ".py",
   "mimetype": "text/x-python",
   "name": "python",
   "nbconvert_exporter": "python",
   "pygments_lexer": "ipython3",
   "version": "3.8.8"
  }
 },
 "nbformat": 4,
 "nbformat_minor": 4
}
