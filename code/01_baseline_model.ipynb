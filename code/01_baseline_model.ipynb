{
  "nbformat": 4,
  "nbformat_minor": 0,
  "metadata": {
    "colab": {
      "name": "01-baseline-model.ipynb",
      "provenance": []
    },
    "kernelspec": {
      "display_name": "Python 3",
      "name": "python3"
    },
    "language_info": {
      "name": "python"
    },
    "accelerator": "GPU"
  },
  "cells": [
    {
      "cell_type": "markdown",
      "metadata": {
        "id": "AxgtT79dgW4L"
      },
      "source": [
        "<img src=\"http://imgur.com/1ZcRyrc.png\" style=\"float: left; margin: 20px; height: 55px\">\n",
        "\n",
        "# Project 4: Alzheimer's Image Classification\n",
        "\n",
        "---\n",
        "## Problem Statement\n",
        "\n",
        "Fill this in\n",
        "\n",
        "---"
      ]
    },
    {
      "cell_type": "code",
      "metadata": {
        "id": "EetieFZ6aMwb",
        "colab": {
          "base_uri": "https://localhost:8080/"
        },
        "outputId": "8df2360a-2e43-49d9-e934-e01208b2f64e"
      },
      "source": [
        "from google.colab import drive\n",
        "drive.mount('/content/drive')"
      ],
      "execution_count": 2,
      "outputs": [
        {
          "output_type": "stream",
          "name": "stdout",
          "text": [
            "Mounted at /content/drive\n"
          ]
        }
      ]
    },
    {
      "cell_type": "code",
      "metadata": {
        "id": "aFHEY0g8RtW7",
        "colab": {
          "base_uri": "https://localhost:8080/"
        },
        "outputId": "be953c89-0ff2-47ca-d294-d87e488c9060"
      },
      "source": [
        "%tensorflow_version 2.x\n",
        "import tensorflow as tf\n",
        "print(\"Tensorflow version \" + tf.__version__)\n",
        "device_name = tf.test.gpu_device_name()\n",
        "if device_name != '/device:GPU:0':\n",
        "  raise SystemError('GPU device not found')\n",
        "print('Found GPU at: {}'.format(device_name))"
      ],
      "execution_count": 1,
      "outputs": [
        {
          "output_type": "stream",
          "name": "stdout",
          "text": [
            "Tensorflow version 2.6.0\n",
            "Found GPU at: /device:GPU:0\n"
          ]
        }
      ]
    },
    {
      "cell_type": "code",
      "metadata": {
        "id": "s9RxIgT5alfU"
      },
      "source": [
        "# Imports\n",
        "import numpy as np\n",
        "import pandas as pd\n",
        "import matplotlib.pyplot as plt\n",
        "\n",
        "from tensorflow.keras.preprocessing.image import ImageDataGenerator\n",
        "from tensorflow.keras.models import Sequential\n",
        "from tensorflow.keras.layers import Dense, Dropout, Flatten, Conv2D, MaxPooling2D\n",
        "from tensorflow.keras.metrics import Precision, Recall"
      ],
      "execution_count": 3,
      "outputs": []
    },
    {
      "cell_type": "markdown",
      "metadata": {
        "id": "gS9FZ83rgpXu"
      },
      "source": [
        "## Baseline Neural Network"
      ]
    },
    {
      "cell_type": "markdown",
      "metadata": {
        "id": "fmbFIa7QyHOs"
      },
      "source": [
        "### Train and Test Data"
      ]
    },
    {
      "cell_type": "code",
      "metadata": {
        "colab": {
          "base_uri": "https://localhost:8080/"
        },
        "id": "Q3dONkp6gAnF",
        "outputId": "47692071-4726-4e91-b206-0b7723063e91"
      },
      "source": [
        "# Create Test and Train \n",
        "train_datagen = ImageDataGenerator(rescale=1.0/255, validation_split=0.33)\n",
        "test_datagen = ImageDataGenerator(rescale=1.0/255)\n",
        "\n",
        "train_dir = '/content/drive/MyDrive/data/train'\n",
        "test_dir = '/content/drive/MyDrive/data/test'\n",
        "\n",
        "img_width = 176\n",
        "img_height = 208\n",
        "\n",
        "train_gen = train_datagen.flow_from_directory(\n",
        "    train_dir,\n",
        "    target_size=(img_height, img_width),\n",
        "    batch_size=64,\n",
        "    class_mode='categorical',\n",
        "    subset='training'\n",
        ")\n",
        "\n",
        "validation_gen = train_datagen.flow_from_directory(\n",
        "    train_dir,\n",
        "    target_size=(img_height, img_width),\n",
        "    batch_size=64,\n",
        "    class_mode='categorical',\n",
        "    subset='validation'\n",
        ")\n",
        "\n",
        "test_gen = test_datagen.flow_from_directory(\n",
        "    test_dir,\n",
        "    target_size=(img_height, img_width),\n",
        "    batch_size=64,\n",
        "    class_mode='categorical'\n",
        ")"
      ],
      "execution_count": 23,
      "outputs": [
        {
          "output_type": "stream",
          "name": "stdout",
          "text": [
            "Found 3433 images belonging to 4 classes.\n",
            "Found 1688 images belonging to 4 classes.\n",
            "Found 1279 images belonging to 4 classes.\n"
          ]
        }
      ]
    },
    {
      "cell_type": "code",
      "metadata": {
        "colab": {
          "base_uri": "https://localhost:8080/"
        },
        "id": "byFbzjEQ_Eaz",
        "outputId": "9e2b45c0-2790-46a2-8bfb-d578a3ac76aa"
      },
      "source": [
        "train_steps = train_gen.samples // train_gen.batch_size\n",
        "val_steps = validation_gen.samples // validation_gen.batch_size\n",
        "print(train_steps)\n",
        "print(val_steps)"
      ],
      "execution_count": 16,
      "outputs": [
        {
          "output_type": "stream",
          "name": "stdout",
          "text": [
            "53\n",
            "26\n"
          ]
        }
      ]
    },
    {
      "cell_type": "code",
      "metadata": {
        "colab": {
          "base_uri": "https://localhost:8080/"
        },
        "id": "b6w8Fm26kax-",
        "outputId": "a7e4103c-b63b-4f21-c220-457fd2da1f09"
      },
      "source": [
        "train_gen.class_indices"
      ],
      "execution_count": 17,
      "outputs": [
        {
          "output_type": "execute_result",
          "data": {
            "text/plain": [
              "{'MildDemented': 0,\n",
              " 'ModerateDemented': 1,\n",
              " 'NonDemented': 2,\n",
              " 'VeryMildDemented': 3}"
            ]
          },
          "metadata": {},
          "execution_count": 17
        }
      ]
    },
    {
      "cell_type": "code",
      "metadata": {
        "colab": {
          "base_uri": "https://localhost:8080/"
        },
        "id": "cqi0s6tUkfxj",
        "outputId": "35077a0b-01e1-49bd-afde-0f054d93198d"
      },
      "source": [
        "train_gen.image_shape"
      ],
      "execution_count": 18,
      "outputs": [
        {
          "output_type": "execute_result",
          "data": {
            "text/plain": [
              "(150, 150, 3)"
            ]
          },
          "metadata": {},
          "execution_count": 18
        }
      ]
    },
    {
      "cell_type": "code",
      "metadata": {
        "colab": {
          "base_uri": "https://localhost:8080/"
        },
        "id": "FJJAYPeAME4R",
        "outputId": "f1c62753-2739-4938-8944-eedd2bee7c5c"
      },
      "source": [
        "pd.Series(test_gen.classes).value_counts(normalize=True)"
      ],
      "execution_count": 19,
      "outputs": [
        {
          "output_type": "execute_result",
          "data": {
            "text/plain": [
              "2    0.500391\n",
              "3    0.350274\n",
              "0    0.139953\n",
              "1    0.009382\n",
              "dtype: float64"
            ]
          },
          "metadata": {},
          "execution_count": 19
        }
      ]
    },
    {
      "cell_type": "markdown",
      "metadata": {
        "id": "ZDfBkfNPer8t"
      },
      "source": [
        "Base line accuracy is 50%"
      ]
    },
    {
      "cell_type": "markdown",
      "metadata": {
        "id": "fuvXLHELzSFG"
      },
      "source": [
        "### Basic Convolutional Neural Network"
      ]
    },
    {
      "cell_type": "code",
      "metadata": {
        "id": "0CUgyNn3x4t_"
      },
      "source": [
        "# Neural Net architecture referenced from \"Deep Learning with Python by Francois Chollet: Chapter 5\"\n",
        "\n",
        "def create_model():\n",
        "  model = Sequential()\n",
        "  model.add(Conv2D(\n",
        "      filters=32,\n",
        "      kernel_size=(3, 3),\n",
        "      activation='relu',\n",
        "      input_shape=(img_height, img_width, 3)\n",
        "  ))\n",
        "  model.add(MaxPooling2D(pool_size=(2, 2)))\n",
        "  model.add(Conv2D(\n",
        "      filters=64,\n",
        "      kernel_size=(3, 3),\n",
        "      activation='relu' \n",
        "  ))\n",
        "  model.add(MaxPooling2D(pool_size=(2, 2)))\n",
        "  model.add(Conv2D(\n",
        "      filters=128,\n",
        "      kernel_size=(3, 3),\n",
        "      activation='relu'\n",
        "  ))\n",
        "  model.add(MaxPooling2D(pool_size=(2, 2)))\n",
        "  model.add(Flatten())\n",
        "  model.add(Dense(256, activation='relu'))\n",
        "  model.add(Dense(4, activation='softmax'))\n",
        "  model.compile(loss='categorical_crossentropy', \n",
        "              optimizer='adam', \n",
        "              metrics=['accuracy', Precision(), Recall()])\n",
        "  return model"
      ],
      "execution_count": 24,
      "outputs": []
    },
    {
      "cell_type": "code",
      "metadata": {
        "colab": {
          "base_uri": "https://localhost:8080/"
        },
        "id": "YrRRRGnlgxOJ",
        "outputId": "04d41361-59ba-4069-f184-08050bcba81a"
      },
      "source": [
        "model = create_model()\n",
        "model.summary()"
      ],
      "execution_count": 28,
      "outputs": [
        {
          "output_type": "stream",
          "name": "stdout",
          "text": [
            "Model: \"sequential_4\"\n",
            "_________________________________________________________________\n",
            "Layer (type)                 Output Shape              Param #   \n",
            "=================================================================\n",
            "conv2d_12 (Conv2D)           (None, 206, 174, 32)      896       \n",
            "_________________________________________________________________\n",
            "max_pooling2d_12 (MaxPooling (None, 103, 87, 32)       0         \n",
            "_________________________________________________________________\n",
            "conv2d_13 (Conv2D)           (None, 101, 85, 64)       18496     \n",
            "_________________________________________________________________\n",
            "max_pooling2d_13 (MaxPooling (None, 50, 42, 64)        0         \n",
            "_________________________________________________________________\n",
            "conv2d_14 (Conv2D)           (None, 48, 40, 128)       73856     \n",
            "_________________________________________________________________\n",
            "max_pooling2d_14 (MaxPooling (None, 24, 20, 128)       0         \n",
            "_________________________________________________________________\n",
            "flatten_4 (Flatten)          (None, 61440)             0         \n",
            "_________________________________________________________________\n",
            "dense_8 (Dense)              (None, 256)               15728896  \n",
            "_________________________________________________________________\n",
            "dense_9 (Dense)              (None, 4)                 1028      \n",
            "=================================================================\n",
            "Total params: 15,823,172\n",
            "Trainable params: 15,823,172\n",
            "Non-trainable params: 0\n",
            "_________________________________________________________________\n"
          ]
        }
      ]
    },
    {
      "cell_type": "code",
      "metadata": {
        "id": "7yiTnS5sFwul",
        "colab": {
          "base_uri": "https://localhost:8080/"
        },
        "outputId": "b7752fd4-714d-40ca-d836-7fadc91d4a1c"
      },
      "source": [
        "with tf.device('/device:GPU:0'):\n",
        "  history = model.fit(\n",
        "      train_gen,\n",
        "      validation_data=validation_gen,\n",
        "      epochs=60,\n",
        "      steps_per_epoch=train_steps,\n",
        "      validation_steps=val_steps\n",
        "  )"
      ],
      "execution_count": 29,
      "outputs": [
        {
          "output_type": "stream",
          "name": "stdout",
          "text": [
            "Epoch 1/60\n",
            "53/53 [==============================] - 10s 183ms/step - loss: 1.0995 - accuracy: 0.5358 - precision_4: 0.5619 - recall_4: 0.3514 - val_loss: 1.3689 - val_accuracy: 0.3143 - val_precision_4: 0.3695 - val_recall_4: 0.2230\n",
            "Epoch 2/60\n",
            "53/53 [==============================] - 9s 178ms/step - loss: 0.7752 - accuracy: 0.6640 - precision_4: 0.7075 - recall_4: 0.5886 - val_loss: 1.7382 - val_accuracy: 0.2650 - val_precision_4: 0.2669 - val_recall_4: 0.2236\n",
            "Epoch 3/60\n",
            "53/53 [==============================] - 9s 175ms/step - loss: 0.5685 - accuracy: 0.7608 - precision_4: 0.7978 - recall_4: 0.7228 - val_loss: 1.8942 - val_accuracy: 0.3666 - val_precision_4: 0.3671 - val_recall_4: 0.3287\n",
            "Epoch 4/60\n",
            "53/53 [==============================] - 9s 177ms/step - loss: 0.3684 - accuracy: 0.8537 - precision_4: 0.8730 - recall_4: 0.8347 - val_loss: 1.9749 - val_accuracy: 0.3516 - val_precision_4: 0.3577 - val_recall_4: 0.3269\n",
            "Epoch 5/60\n",
            "53/53 [==============================] - 9s 176ms/step - loss: 0.1849 - accuracy: 0.9308 - precision_4: 0.9350 - recall_4: 0.9267 - val_loss: 2.0571 - val_accuracy: 0.4513 - val_precision_4: 0.4620 - val_recall_4: 0.4381\n",
            "Epoch 6/60\n",
            "53/53 [==============================] - 9s 180ms/step - loss: 0.1323 - accuracy: 0.9540 - precision_4: 0.9580 - recall_4: 0.9478 - val_loss: 2.3053 - val_accuracy: 0.4435 - val_precision_4: 0.4469 - val_recall_4: 0.4351\n",
            "Epoch 7/60\n",
            "53/53 [==============================] - 9s 178ms/step - loss: 0.0403 - accuracy: 0.9896 - precision_4: 0.9908 - recall_4: 0.9881 - val_loss: 2.3437 - val_accuracy: 0.5000 - val_precision_4: 0.5009 - val_recall_4: 0.4898\n",
            "Epoch 8/60\n",
            "53/53 [==============================] - 9s 176ms/step - loss: 0.0241 - accuracy: 0.9944 - precision_4: 0.9944 - recall_4: 0.9944 - val_loss: 3.0293 - val_accuracy: 0.4471 - val_precision_4: 0.4490 - val_recall_4: 0.4441\n",
            "Epoch 9/60\n",
            "53/53 [==============================] - 9s 173ms/step - loss: 0.0179 - accuracy: 0.9953 - precision_4: 0.9953 - recall_4: 0.9953 - val_loss: 2.8008 - val_accuracy: 0.4946 - val_precision_4: 0.4945 - val_recall_4: 0.4868\n",
            "Epoch 10/60\n",
            "53/53 [==============================] - 9s 176ms/step - loss: 0.0068 - accuracy: 0.9991 - precision_4: 0.9991 - recall_4: 0.9991 - val_loss: 2.8699 - val_accuracy: 0.5174 - val_precision_4: 0.5182 - val_recall_4: 0.5120\n",
            "Epoch 11/60\n",
            "53/53 [==============================] - 9s 173ms/step - loss: 0.0229 - accuracy: 0.9917 - precision_4: 0.9920 - recall_4: 0.9917 - val_loss: 3.1058 - val_accuracy: 0.5036 - val_precision_4: 0.5064 - val_recall_4: 0.4994\n",
            "Epoch 12/60\n",
            "53/53 [==============================] - 9s 175ms/step - loss: 0.0076 - accuracy: 0.9976 - precision_4: 0.9976 - recall_4: 0.9976 - val_loss: 2.9230 - val_accuracy: 0.5463 - val_precision_4: 0.5493 - val_recall_4: 0.5427\n",
            "Epoch 13/60\n",
            "53/53 [==============================] - 9s 173ms/step - loss: 0.0044 - accuracy: 0.9988 - precision_4: 0.9988 - recall_4: 0.9988 - val_loss: 3.1959 - val_accuracy: 0.5114 - val_precision_4: 0.5142 - val_recall_4: 0.5102\n",
            "Epoch 14/60\n",
            "53/53 [==============================] - 9s 172ms/step - loss: 5.9950e-04 - accuracy: 1.0000 - precision_4: 1.0000 - recall_4: 1.0000 - val_loss: 3.3197 - val_accuracy: 0.5325 - val_precision_4: 0.5355 - val_recall_4: 0.5306\n",
            "Epoch 15/60\n",
            "53/53 [==============================] - 9s 174ms/step - loss: 2.2343e-04 - accuracy: 1.0000 - precision_4: 1.0000 - recall_4: 1.0000 - val_loss: 3.4012 - val_accuracy: 0.5325 - val_precision_4: 0.5331 - val_recall_4: 0.5276\n",
            "Epoch 16/60\n",
            "53/53 [==============================] - 9s 173ms/step - loss: 1.6624e-04 - accuracy: 1.0000 - precision_4: 1.0000 - recall_4: 1.0000 - val_loss: 3.4198 - val_accuracy: 0.5373 - val_precision_4: 0.5392 - val_recall_4: 0.5337\n",
            "Epoch 17/60\n",
            "53/53 [==============================] - 9s 175ms/step - loss: 1.3111e-04 - accuracy: 1.0000 - precision_4: 1.0000 - recall_4: 1.0000 - val_loss: 3.4881 - val_accuracy: 0.5373 - val_precision_4: 0.5373 - val_recall_4: 0.5325\n",
            "Epoch 18/60\n",
            "53/53 [==============================] - 9s 175ms/step - loss: 1.1352e-04 - accuracy: 1.0000 - precision_4: 1.0000 - recall_4: 1.0000 - val_loss: 3.5520 - val_accuracy: 0.5379 - val_precision_4: 0.5370 - val_recall_4: 0.5319\n",
            "Epoch 19/60\n",
            "53/53 [==============================] - 9s 174ms/step - loss: 1.0179e-04 - accuracy: 1.0000 - precision_4: 1.0000 - recall_4: 1.0000 - val_loss: 3.5822 - val_accuracy: 0.5343 - val_precision_4: 0.5342 - val_recall_4: 0.5300\n",
            "Epoch 20/60\n",
            "53/53 [==============================] - 9s 176ms/step - loss: 8.8163e-05 - accuracy: 1.0000 - precision_4: 1.0000 - recall_4: 1.0000 - val_loss: 3.6152 - val_accuracy: 0.5355 - val_precision_4: 0.5358 - val_recall_4: 0.5312\n",
            "Epoch 21/60\n",
            "53/53 [==============================] - 9s 174ms/step - loss: 7.7322e-05 - accuracy: 1.0000 - precision_4: 1.0000 - recall_4: 1.0000 - val_loss: 3.6592 - val_accuracy: 0.5337 - val_precision_4: 0.5333 - val_recall_4: 0.5294\n",
            "Epoch 22/60\n",
            "53/53 [==============================] - 9s 174ms/step - loss: 7.1299e-05 - accuracy: 1.0000 - precision_4: 1.0000 - recall_4: 1.0000 - val_loss: 3.6739 - val_accuracy: 0.5319 - val_precision_4: 0.5327 - val_recall_4: 0.5288\n",
            "Epoch 23/60\n",
            "53/53 [==============================] - 9s 175ms/step - loss: 6.5922e-05 - accuracy: 1.0000 - precision_4: 1.0000 - recall_4: 1.0000 - val_loss: 3.7019 - val_accuracy: 0.5349 - val_precision_4: 0.5351 - val_recall_4: 0.5319\n",
            "Epoch 24/60\n",
            "53/53 [==============================] - 9s 174ms/step - loss: 6.0055e-05 - accuracy: 1.0000 - precision_4: 1.0000 - recall_4: 1.0000 - val_loss: 3.7383 - val_accuracy: 0.5331 - val_precision_4: 0.5342 - val_recall_4: 0.5300\n",
            "Epoch 25/60\n",
            "53/53 [==============================] - 9s 174ms/step - loss: 5.4870e-05 - accuracy: 1.0000 - precision_4: 1.0000 - recall_4: 1.0000 - val_loss: 3.7899 - val_accuracy: 0.5343 - val_precision_4: 0.5336 - val_recall_4: 0.5300\n",
            "Epoch 26/60\n",
            "53/53 [==============================] - 9s 175ms/step - loss: 5.0624e-05 - accuracy: 1.0000 - precision_4: 1.0000 - recall_4: 1.0000 - val_loss: 3.7871 - val_accuracy: 0.5361 - val_precision_4: 0.5356 - val_recall_4: 0.5331\n",
            "Epoch 27/60\n",
            "53/53 [==============================] - 9s 179ms/step - loss: 4.6141e-05 - accuracy: 1.0000 - precision_4: 1.0000 - recall_4: 1.0000 - val_loss: 3.8031 - val_accuracy: 0.5373 - val_precision_4: 0.5368 - val_recall_4: 0.5343\n",
            "Epoch 28/60\n",
            "53/53 [==============================] - 9s 173ms/step - loss: 4.3336e-05 - accuracy: 1.0000 - precision_4: 1.0000 - recall_4: 1.0000 - val_loss: 3.8692 - val_accuracy: 0.5343 - val_precision_4: 0.5345 - val_recall_4: 0.5312\n",
            "Epoch 29/60\n",
            "53/53 [==============================] - 9s 176ms/step - loss: 4.0286e-05 - accuracy: 1.0000 - precision_4: 1.0000 - recall_4: 1.0000 - val_loss: 3.8777 - val_accuracy: 0.5349 - val_precision_4: 0.5351 - val_recall_4: 0.5319\n",
            "Epoch 30/60\n",
            "53/53 [==============================] - 9s 175ms/step - loss: 3.8027e-05 - accuracy: 1.0000 - precision_4: 1.0000 - recall_4: 1.0000 - val_loss: 3.8863 - val_accuracy: 0.5361 - val_precision_4: 0.5357 - val_recall_4: 0.5319\n",
            "Epoch 31/60\n",
            "53/53 [==============================] - 9s 173ms/step - loss: 3.5209e-05 - accuracy: 1.0000 - precision_4: 1.0000 - recall_4: 1.0000 - val_loss: 3.9289 - val_accuracy: 0.5349 - val_precision_4: 0.5341 - val_recall_4: 0.5319\n",
            "Epoch 32/60\n",
            "53/53 [==============================] - 9s 173ms/step - loss: 3.2973e-05 - accuracy: 1.0000 - precision_4: 1.0000 - recall_4: 1.0000 - val_loss: 3.9333 - val_accuracy: 0.5337 - val_precision_4: 0.5338 - val_recall_4: 0.5312\n",
            "Epoch 33/60\n",
            "53/53 [==============================] - 9s 175ms/step - loss: 3.1525e-05 - accuracy: 1.0000 - precision_4: 1.0000 - recall_4: 1.0000 - val_loss: 3.9575 - val_accuracy: 0.5319 - val_precision_4: 0.5323 - val_recall_4: 0.5294\n",
            "Epoch 34/60\n",
            "53/53 [==============================] - 9s 176ms/step - loss: 2.9320e-05 - accuracy: 1.0000 - precision_4: 1.0000 - recall_4: 1.0000 - val_loss: 3.9745 - val_accuracy: 0.5391 - val_precision_4: 0.5386 - val_recall_4: 0.5361\n",
            "Epoch 35/60\n",
            "53/53 [==============================] - 9s 174ms/step - loss: 2.7307e-05 - accuracy: 1.0000 - precision_4: 1.0000 - recall_4: 1.0000 - val_loss: 3.9906 - val_accuracy: 0.5337 - val_precision_4: 0.5341 - val_recall_4: 0.5312\n",
            "Epoch 36/60\n",
            "53/53 [==============================] - 9s 174ms/step - loss: 2.6019e-05 - accuracy: 1.0000 - precision_4: 1.0000 - recall_4: 1.0000 - val_loss: 4.0151 - val_accuracy: 0.5373 - val_precision_4: 0.5378 - val_recall_4: 0.5349\n",
            "Epoch 37/60\n",
            "53/53 [==============================] - 9s 174ms/step - loss: 2.4740e-05 - accuracy: 1.0000 - precision_4: 1.0000 - recall_4: 1.0000 - val_loss: 4.0345 - val_accuracy: 0.5319 - val_precision_4: 0.5326 - val_recall_4: 0.5300\n",
            "Epoch 38/60\n",
            "53/53 [==============================] - 9s 179ms/step - loss: 2.3475e-05 - accuracy: 1.0000 - precision_4: 1.0000 - recall_4: 1.0000 - val_loss: 4.0561 - val_accuracy: 0.5355 - val_precision_4: 0.5360 - val_recall_4: 0.5331\n",
            "Epoch 39/60\n",
            "53/53 [==============================] - 9s 174ms/step - loss: 2.1916e-05 - accuracy: 1.0000 - precision_4: 1.0000 - recall_4: 1.0000 - val_loss: 4.0527 - val_accuracy: 0.5367 - val_precision_4: 0.5371 - val_recall_4: 0.5349\n",
            "Epoch 40/60\n",
            "53/53 [==============================] - 9s 175ms/step - loss: 2.0908e-05 - accuracy: 1.0000 - precision_4: 1.0000 - recall_4: 1.0000 - val_loss: 4.0606 - val_accuracy: 0.5391 - val_precision_4: 0.5399 - val_recall_4: 0.5373\n",
            "Epoch 41/60\n",
            "53/53 [==============================] - 9s 173ms/step - loss: 1.9952e-05 - accuracy: 1.0000 - precision_4: 1.0000 - recall_4: 1.0000 - val_loss: 4.1008 - val_accuracy: 0.5379 - val_precision_4: 0.5381 - val_recall_4: 0.5349\n",
            "Epoch 42/60\n",
            "53/53 [==============================] - 9s 177ms/step - loss: 1.8825e-05 - accuracy: 1.0000 - precision_4: 1.0000 - recall_4: 1.0000 - val_loss: 4.0957 - val_accuracy: 0.5361 - val_precision_4: 0.5366 - val_recall_4: 0.5337\n",
            "Epoch 43/60\n",
            "53/53 [==============================] - 9s 175ms/step - loss: 1.7691e-05 - accuracy: 1.0000 - precision_4: 1.0000 - recall_4: 1.0000 - val_loss: 4.1529 - val_accuracy: 0.5361 - val_precision_4: 0.5362 - val_recall_4: 0.5337\n",
            "Epoch 44/60\n",
            "53/53 [==============================] - 9s 175ms/step - loss: 1.7107e-05 - accuracy: 1.0000 - precision_4: 1.0000 - recall_4: 1.0000 - val_loss: 4.1693 - val_accuracy: 0.5355 - val_precision_4: 0.5353 - val_recall_4: 0.5325\n",
            "Epoch 45/60\n",
            "53/53 [==============================] - 9s 176ms/step - loss: 1.6237e-05 - accuracy: 1.0000 - precision_4: 1.0000 - recall_4: 1.0000 - val_loss: 4.1559 - val_accuracy: 0.5385 - val_precision_4: 0.5390 - val_recall_4: 0.5361\n",
            "Epoch 46/60\n",
            "53/53 [==============================] - 9s 176ms/step - loss: 1.5487e-05 - accuracy: 1.0000 - precision_4: 1.0000 - recall_4: 1.0000 - val_loss: 4.1891 - val_accuracy: 0.5349 - val_precision_4: 0.5350 - val_recall_4: 0.5325\n",
            "Epoch 47/60\n",
            "53/53 [==============================] - 9s 176ms/step - loss: 1.4683e-05 - accuracy: 1.0000 - precision_4: 1.0000 - recall_4: 1.0000 - val_loss: 4.2057 - val_accuracy: 0.5373 - val_precision_4: 0.5383 - val_recall_4: 0.5361\n",
            "Epoch 48/60\n",
            "53/53 [==============================] - 9s 176ms/step - loss: 1.4016e-05 - accuracy: 1.0000 - precision_4: 1.0000 - recall_4: 1.0000 - val_loss: 4.1955 - val_accuracy: 0.5379 - val_precision_4: 0.5387 - val_recall_4: 0.5355\n",
            "Epoch 49/60\n",
            "53/53 [==============================] - 9s 178ms/step - loss: 1.3570e-05 - accuracy: 1.0000 - precision_4: 1.0000 - recall_4: 1.0000 - val_loss: 4.2245 - val_accuracy: 0.5385 - val_precision_4: 0.5386 - val_recall_4: 0.5361\n",
            "Epoch 50/60\n",
            "53/53 [==============================] - 9s 177ms/step - loss: 1.2797e-05 - accuracy: 1.0000 - precision_4: 1.0000 - recall_4: 1.0000 - val_loss: 4.2652 - val_accuracy: 0.5355 - val_precision_4: 0.5353 - val_recall_4: 0.5325\n",
            "Epoch 51/60\n",
            "53/53 [==============================] - 9s 177ms/step - loss: 1.2314e-05 - accuracy: 1.0000 - precision_4: 1.0000 - recall_4: 1.0000 - val_loss: 4.2373 - val_accuracy: 0.5379 - val_precision_4: 0.5380 - val_recall_4: 0.5355\n",
            "Epoch 52/60\n",
            "53/53 [==============================] - 9s 176ms/step - loss: 1.1723e-05 - accuracy: 1.0000 - precision_4: 1.0000 - recall_4: 1.0000 - val_loss: 4.2881 - val_accuracy: 0.5385 - val_precision_4: 0.5386 - val_recall_4: 0.5361\n",
            "Epoch 53/60\n",
            "53/53 [==============================] - 9s 176ms/step - loss: 1.1305e-05 - accuracy: 1.0000 - precision_4: 1.0000 - recall_4: 1.0000 - val_loss: 4.3170 - val_accuracy: 0.5379 - val_precision_4: 0.5380 - val_recall_4: 0.5355\n",
            "Epoch 54/60\n",
            "53/53 [==============================] - 9s 175ms/step - loss: 1.0752e-05 - accuracy: 1.0000 - precision_4: 1.0000 - recall_4: 1.0000 - val_loss: 4.3049 - val_accuracy: 0.5397 - val_precision_4: 0.5407 - val_recall_4: 0.5385\n",
            "Epoch 55/60\n",
            "53/53 [==============================] - 9s 177ms/step - loss: 1.0454e-05 - accuracy: 1.0000 - precision_4: 1.0000 - recall_4: 1.0000 - val_loss: 4.3098 - val_accuracy: 0.5397 - val_precision_4: 0.5393 - val_recall_4: 0.5367\n",
            "Epoch 56/60\n",
            "53/53 [==============================] - 9s 176ms/step - loss: 9.9798e-06 - accuracy: 1.0000 - precision_4: 1.0000 - recall_4: 1.0000 - val_loss: 4.2999 - val_accuracy: 0.5403 - val_precision_4: 0.5410 - val_recall_4: 0.5391\n",
            "Epoch 57/60\n",
            "53/53 [==============================] - 9s 176ms/step - loss: 9.5636e-06 - accuracy: 1.0000 - precision_4: 1.0000 - recall_4: 1.0000 - val_loss: 4.3337 - val_accuracy: 0.5397 - val_precision_4: 0.5407 - val_recall_4: 0.5385\n",
            "Epoch 58/60\n",
            "53/53 [==============================] - 9s 178ms/step - loss: 9.2662e-06 - accuracy: 1.0000 - precision_4: 1.0000 - recall_4: 1.0000 - val_loss: 4.3138 - val_accuracy: 0.5451 - val_precision_4: 0.5462 - val_recall_4: 0.5439\n",
            "Epoch 59/60\n",
            "53/53 [==============================] - 9s 178ms/step - loss: 8.8877e-06 - accuracy: 1.0000 - precision_4: 1.0000 - recall_4: 1.0000 - val_loss: 4.3483 - val_accuracy: 0.5409 - val_precision_4: 0.5411 - val_recall_4: 0.5385\n",
            "Epoch 60/60\n",
            "53/53 [==============================] - 9s 178ms/step - loss: 8.3895e-06 - accuracy: 1.0000 - precision_4: 1.0000 - recall_4: 1.0000 - val_loss: 4.3431 - val_accuracy: 0.5409 - val_precision_4: 0.5416 - val_recall_4: 0.5397\n"
          ]
        }
      ]
    },
    {
      "cell_type": "code",
      "metadata": {
        "id": "iq52IHqZT2_8"
      },
      "source": [
        "acc = history.history['accuracy']\n",
        "val_acc = history.history['val_accuracy']\n",
        "\n",
        "loss = history.history['loss']\n",
        "val_loss = history.history['val_loss']\n",
        "\n",
        "prec = history.history['precision_4']\n",
        "val_prec = history.history['val_precision_4']\n",
        "\n",
        "recall = history.history['recall_4']\n",
        "val_recall = history.history['val_recall_4']\n",
        "\n",
        "epochs_range = range(60)"
      ],
      "execution_count": 31,
      "outputs": []
    },
    {
      "cell_type": "code",
      "metadata": {
        "colab": {
          "base_uri": "https://localhost:8080/",
          "height": 516
        },
        "id": "JeuVJrFwe2ky",
        "outputId": "d144082d-419e-4049-acbc-9af2578a45c5"
      },
      "source": [
        "plt.figure(figsize=(12, 8))\n",
        "plt.plot(epochs_range, acc, label='Training Accuracy')\n",
        "plt.plot(epochs_range, val_acc, label='Validation Accuracy')\n",
        "plt.title('Training and Validation Accuracy')\n",
        "plt.legend()"
      ],
      "execution_count": 32,
      "outputs": [
        {
          "output_type": "execute_result",
          "data": {
            "text/plain": [
              "<matplotlib.legend.Legend at 0x7fb3152a7650>"
            ]
          },
          "metadata": {},
          "execution_count": 32
        },
        {
          "output_type": "display_data",
          "data": {
            "image/png": "[encoded data removed]",
            "text/plain": [
              "<Figure size 864x576 with 1 Axes>"
            ]
          },
          "metadata": {
            "needs_background": "light"
          }
        }
      ]
    },
    {
      "cell_type": "code",
      "metadata": {
        "colab": {
          "base_uri": "https://localhost:8080/",
          "height": 516
        },
        "id": "DIX3LqW3fU2H",
        "outputId": "6a67d289-bf8f-42cf-80c4-70ddee2921aa"
      },
      "source": [
        "plt.figure(figsize=(12, 8))\n",
        "plt.plot(epochs_range, loss, label='Training Loss')\n",
        "plt.plot(epochs_range, val_loss, label='Validation Loss')\n",
        "plt.title('Training and Validation Loss')\n",
        "plt.legend()"
      ],
      "execution_count": 33,
      "outputs": [
        {
          "output_type": "execute_result",
          "data": {
            "text/plain": [
              "<matplotlib.legend.Legend at 0x7fb3182d1450>"
            ]
          },
          "metadata": {},
          "execution_count": 33
        },
        {
          "output_type": "display_data",
          "data": {
            "image/png": "[encoded data removed]",
            "text/plain": [
              "<Figure size 864x576 with 1 Axes>"
            ]
          },
          "metadata": {
            "needs_background": "light"
          }
        }
      ]
    },
    {
      "cell_type": "code",
      "metadata": {
        "colab": {
          "base_uri": "https://localhost:8080/",
          "height": 516
        },
        "id": "rq6s0lq3fjPH",
        "outputId": "fd589951-5368-45bb-afb2-e0c93915b908"
      },
      "source": [
        "plt.figure(figsize=(12, 8))\n",
        "plt.plot(epochs_range, prec, label='Training Precision')\n",
        "plt.plot(epochs_range, val_prec, label='Validation Precision')\n",
        "plt.title('Training and Validation Precision')\n",
        "plt.legend()"
      ],
      "execution_count": 34,
      "outputs": [
        {
          "output_type": "execute_result",
          "data": {
            "text/plain": [
              "<matplotlib.legend.Legend at 0x7fb317dcd7d0>"
            ]
          },
          "metadata": {},
          "execution_count": 34
        },
        {
          "output_type": "display_data",
          "data": {
            "image/png": "[encoded data removed]",
            "text/plain": [
              "<Figure size 864x576 with 1 Axes>"
            ]
          },
          "metadata": {
            "needs_background": "light"
          }
        }
      ]
    },
    {
      "cell_type": "code",
      "metadata": {
        "colab": {
          "base_uri": "https://localhost:8080/",
          "height": 516
        },
        "id": "9xdf8Fq2fsOc",
        "outputId": "b2d068c1-e6d5-4059-ccf4-091f514dea63"
      },
      "source": [
        "plt.figure(figsize=(12, 8))\n",
        "plt.plot(epochs_range, recall, label='Training Recall')\n",
        "plt.plot(epochs_range, val_recall, label='Validation Recall')\n",
        "plt.title('Training and Validation Recall')\n",
        "plt.legend()"
      ],
      "execution_count": 35,
      "outputs": [
        {
          "output_type": "execute_result",
          "data": {
            "text/plain": [
              "<matplotlib.legend.Legend at 0x7fb317d43490>"
            ]
          },
          "metadata": {},
          "execution_count": 35
        },
        {
          "output_type": "display_data",
          "data": {
            "image/png": "[encoded data removed]",
            "text/plain": [
              "<Figure size 864x576 with 1 Axes>"
            ]
          },
          "metadata": {
            "needs_background": "light"
          }
        }
      ]
    },
    {
      "cell_type": "markdown",
      "metadata": {
        "id": "QLSoP0Qy0IbQ"
      },
      "source": [
        "Based on all the charts, this initial model is severly overfit. After about 14 epochs the model stops improving. Model is slightly better than the base model with the best Accuracy score at about 55%, the best Precision was about 55% and Recall was about 54%."
      ]
    },
    {
      "cell_type": "code",
      "metadata": {
        "id": "0RoGAyBEgIdy"
      },
      "source": [
        ""
      ],
      "execution_count": null,
      "outputs": []
    }
  ]
}