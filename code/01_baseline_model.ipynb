{
  "nbformat": 4,
  "nbformat_minor": 0,
  "metadata": {
    "colab": {
      "name": "01-baseline-model.ipynb",
      "provenance": [],
      "collapsed_sections": []
    },
    "kernelspec": {
      "display_name": "Python 3",
      "name": "python3"
    },
    "language_info": {
      "name": "python"
    },
    "accelerator": "GPU"
  },
  "cells": [
    {
      "cell_type": "markdown",
      "metadata": {
        "id": "AxgtT79dgW4L"
      },
      "source": [
        "<img src=\"http://imgur.com/1ZcRyrc.png\" style=\"float: left; margin: 20px; height: 55px\">\n",
        "\n",
        "# Project 4: Alzheimer's Image Classification\n",
        "\n",
        "---\n",
        "## Problem Statement\n",
        "\n",
        "Fill this in\n",
        "\n",
        "---"
      ]
    },
    {
      "cell_type": "code",
      "metadata": {
        "id": "EetieFZ6aMwb",
        "colab": {
          "base_uri": "https://localhost:8080/"
        },
        "outputId": "70f8f9a2-7984-4bae-dc1c-2468ff88c961"
      },
      "source": [
        "from google.colab import drive\n",
        "drive.mount('/content/drive')"
      ],
      "execution_count": 1,
      "outputs": [
        {
          "output_type": "stream",
          "name": "stdout",
          "text": [
            "Mounted at /content/drive\n"
          ]
        }
      ]
    },
    {
      "cell_type": "code",
      "metadata": {
        "id": "aFHEY0g8RtW7",
        "colab": {
          "base_uri": "https://localhost:8080/"
        },
        "outputId": "682be427-18b9-4cde-94f1-d7e12bdd347a"
      },
      "source": [
        "%tensorflow_version 2.x\n",
        "import tensorflow as tf\n",
        "print(\"Tensorflow version \" + tf.__version__)\n",
        "device_name = tf.test.gpu_device_name()\n",
        "if device_name != '/device:GPU:0':\n",
        "  raise SystemError('GPU device not found')\n",
        "print('Found GPU at: {}'.format(device_name))"
      ],
      "execution_count": 2,
      "outputs": [
        {
          "output_type": "stream",
          "name": "stdout",
          "text": [
            "Tensorflow version 2.6.0\n",
            "Found GPU at: /device:GPU:0\n"
          ]
        }
      ]
    },
    {
      "cell_type": "code",
      "metadata": {
        "id": "s9RxIgT5alfU"
      },
      "source": [
        "# Imports\n",
        "import numpy as np\n",
        "import pandas as pd\n",
        "import matplotlib.pyplot as plt\n",
        "\n",
        "from tensorflow.keras.preprocessing.image import ImageDataGenerator\n",
        "from tensorflow.keras.models import Sequential\n",
        "from tensorflow.keras.layers import Dense, Dropout, Flatten, Conv2D, MaxPooling2D\n",
        "from tensorflow.keras.metrics import Precision, Recall"
      ],
      "execution_count": 2,
      "outputs": []
    },
    {
      "cell_type": "markdown",
      "metadata": {
        "id": "gS9FZ83rgpXu"
      },
      "source": [
        "## Baseline Neural Network"
      ]
    },
    {
      "cell_type": "markdown",
      "metadata": {
        "id": "fmbFIa7QyHOs"
      },
      "source": [
        "### Train and Test Data"
      ]
    },
    {
      "cell_type": "code",
      "metadata": {
        "colab": {
          "base_uri": "https://localhost:8080/"
        },
        "id": "Q3dONkp6gAnF",
        "outputId": "d9a6842a-2a34-4a48-ad92-f27e5671f698"
      },
      "source": [
        "# Create Test and Train \n",
        "train_datagen = ImageDataGenerator(rescale=1.0/255, validation_split=0.33)\n",
        "\n",
        "train_dir = '/content/drive/MyDrive/data/train'\n",
        "\n",
        "img_width = 176\n",
        "img_height = 208\n",
        "\n",
        "train_gen = train_datagen.flow_from_directory(\n",
        "    train_dir,\n",
        "    target_size=(img_height, img_width),\n",
        "    batch_size=64,\n",
        "    class_mode='categorical',\n",
        "    subset='training',\n",
        "    seed=42\n",
        ")\n",
        "\n",
        "validation_gen = train_datagen.flow_from_directory(\n",
        "    train_dir,\n",
        "    target_size=(img_height, img_width),\n",
        "    batch_size=64,\n",
        "    class_mode='categorical',\n",
        "    subset='validation',\n",
        "    seed=42\n",
        ")"
      ],
      "execution_count": 3,
      "outputs": [
        {
          "output_type": "stream",
          "name": "stdout",
          "text": [
            "Found 3433 images belonging to 4 classes.\n",
            "Found 1688 images belonging to 4 classes.\n"
          ]
        }
      ]
    },
    {
      "cell_type": "code",
      "metadata": {
        "colab": {
          "base_uri": "https://localhost:8080/"
        },
        "id": "byFbzjEQ_Eaz",
        "outputId": "b9bb5edf-5bbe-4dc1-a38a-8366ad5aa3ab"
      },
      "source": [
        "train_steps = train_gen.samples // train_gen.batch_size\n",
        "val_steps = validation_gen.samples // validation_gen.batch_size\n",
        "print(train_steps)\n",
        "print(val_steps)"
      ],
      "execution_count": 5,
      "outputs": [
        {
          "output_type": "stream",
          "name": "stdout",
          "text": [
            "53\n",
            "26\n"
          ]
        }
      ]
    },
    {
      "cell_type": "code",
      "metadata": {
        "colab": {
          "base_uri": "https://localhost:8080/"
        },
        "id": "b6w8Fm26kax-",
        "outputId": "3f901d3d-1f99-4287-f6f2-71c9beb91852"
      },
      "source": [
        "train_gen.class_indices"
      ],
      "execution_count": 6,
      "outputs": [
        {
          "output_type": "execute_result",
          "data": {
            "text/plain": [
              "{'MildDemented': 0,\n",
              " 'ModerateDemented': 1,\n",
              " 'NonDemented': 2,\n",
              " 'VeryMildDemented': 3}"
            ]
          },
          "metadata": {},
          "execution_count": 6
        }
      ]
    },
    {
      "cell_type": "code",
      "metadata": {
        "colab": {
          "base_uri": "https://localhost:8080/"
        },
        "id": "cqi0s6tUkfxj",
        "outputId": "64fb4ce7-ab72-47d3-cd8f-3c6f8f5a0086"
      },
      "source": [
        "train_gen.image_shape"
      ],
      "execution_count": 7,
      "outputs": [
        {
          "output_type": "execute_result",
          "data": {
            "text/plain": [
              "(208, 176, 3)"
            ]
          },
          "metadata": {},
          "execution_count": 7
        }
      ]
    },
    {
      "cell_type": "code",
      "metadata": {
        "colab": {
          "base_uri": "https://localhost:8080/"
        },
        "id": "FJJAYPeAME4R",
        "outputId": "b2f91d7d-db0c-47fe-dfa9-05ab751e7c08"
      },
      "source": [
        "pd.Series(test_gen.classes).value_counts(normalize=True)"
      ],
      "execution_count": 8,
      "outputs": [
        {
          "output_type": "execute_result",
          "data": {
            "text/plain": [
              "2    0.500391\n",
              "3    0.350274\n",
              "0    0.139953\n",
              "1    0.009382\n",
              "dtype: float64"
            ]
          },
          "metadata": {},
          "execution_count": 8
        }
      ]
    },
    {
      "cell_type": "markdown",
      "metadata": {
        "id": "ZDfBkfNPer8t"
      },
      "source": [
        "Base line accuracy is 50%"
      ]
    },
    {
      "cell_type": "markdown",
      "metadata": {
        "id": "fuvXLHELzSFG"
      },
      "source": [
        "### Basic Convolutional Neural Network"
      ]
    },
    {
      "cell_type": "code",
      "metadata": {
        "id": "0CUgyNn3x4t_"
      },
      "source": [
        "# Neural Net architecture referenced from \"Deep Learning with Python by Francois Chollet: Chapter 5\"\n",
        "\n",
        "def create_model():\n",
        "  model = Sequential()\n",
        "  model.add(Conv2D(\n",
        "      filters=32,\n",
        "      kernel_size=(3, 3),\n",
        "      activation='relu',\n",
        "      input_shape=(img_height, img_width, 3)\n",
        "  ))\n",
        "  model.add(MaxPooling2D(pool_size=(2, 2)))\n",
        "  model.add(Conv2D(\n",
        "      filters=64,\n",
        "      kernel_size=(3, 3),\n",
        "      activation='relu' \n",
        "  ))\n",
        "  model.add(MaxPooling2D(pool_size=(2, 2)))\n",
        "  model.add(Conv2D(\n",
        "      filters=128,\n",
        "      kernel_size=(3, 3),\n",
        "      activation='relu'\n",
        "  ))\n",
        "  model.add(MaxPooling2D(pool_size=(2, 2)))\n",
        "  model.add(Flatten())\n",
        "  model.add(Dense(256, activation='relu'))\n",
        "  model.add(Dense(4, activation='softmax'))\n",
        "  model.compile(loss='categorical_crossentropy', \n",
        "              optimizer='adam', \n",
        "              metrics=['accuracy', Precision(), Recall()])\n",
        "  return model"
      ],
      "execution_count": 10,
      "outputs": []
    },
    {
      "cell_type": "code",
      "metadata": {
        "colab": {
          "base_uri": "https://localhost:8080/"
        },
        "id": "YrRRRGnlgxOJ",
        "outputId": "10033523-9bf6-408f-b6a0-e70b7957b82c"
      },
      "source": [
        "model = create_model()\n",
        "model.summary()"
      ],
      "execution_count": 11,
      "outputs": [
        {
          "output_type": "stream",
          "name": "stdout",
          "text": [
            "Model: \"sequential\"\n",
            "_________________________________________________________________\n",
            "Layer (type)                 Output Shape              Param #   \n",
            "=================================================================\n",
            "conv2d (Conv2D)              (None, 206, 174, 32)      896       \n",
            "_________________________________________________________________\n",
            "max_pooling2d (MaxPooling2D) (None, 103, 87, 32)       0         \n",
            "_________________________________________________________________\n",
            "conv2d_1 (Conv2D)            (None, 101, 85, 64)       18496     \n",
            "_________________________________________________________________\n",
            "max_pooling2d_1 (MaxPooling2 (None, 50, 42, 64)        0         \n",
            "_________________________________________________________________\n",
            "conv2d_2 (Conv2D)            (None, 48, 40, 128)       73856     \n",
            "_________________________________________________________________\n",
            "max_pooling2d_2 (MaxPooling2 (None, 24, 20, 128)       0         \n",
            "_________________________________________________________________\n",
            "flatten (Flatten)            (None, 61440)             0         \n",
            "_________________________________________________________________\n",
            "dense (Dense)                (None, 256)               15728896  \n",
            "_________________________________________________________________\n",
            "dense_1 (Dense)              (None, 4)                 1028      \n",
            "=================================================================\n",
            "Total params: 15,823,172\n",
            "Trainable params: 15,823,172\n",
            "Non-trainable params: 0\n",
            "_________________________________________________________________\n"
          ]
        }
      ]
    },
    {
      "cell_type": "code",
      "metadata": {
        "id": "7yiTnS5sFwul",
        "colab": {
          "base_uri": "https://localhost:8080/"
        },
        "outputId": "5e073b1d-dad1-4a89-8e95-233614fe9a4e"
      },
      "source": [
        "with tf.device('/device:GPU:0'):\n",
        "  history = model.fit(\n",
        "      train_gen,\n",
        "      validation_data=validation_gen,\n",
        "      epochs=60,\n",
        "      steps_per_epoch=train_steps,\n",
        "      validation_steps=val_steps\n",
        "  )"
      ],
      "execution_count": 12,
      "outputs": [
        {
          "output_type": "stream",
          "name": "stdout",
          "text": [
            "Epoch 1/60\n",
            "53/53 [==============================] - 1545s 29s/step - loss: 1.0622 - accuracy: 0.4930 - precision: 0.5464 - recall: 0.3218 - val_loss: 1.3734 - val_accuracy: 0.3438 - val_precision: 0.3346 - val_recall: 0.2596\n",
            "Epoch 2/60\n",
            "53/53 [==============================] - 9s 173ms/step - loss: 0.7733 - accuracy: 0.6637 - precision: 0.7035 - recall: 0.5853 - val_loss: 1.8011 - val_accuracy: 0.2993 - val_precision: 0.3013 - val_recall: 0.2692\n",
            "Epoch 3/60\n",
            "53/53 [==============================] - 9s 170ms/step - loss: 0.5553 - accuracy: 0.7697 - precision: 0.7984 - recall: 0.7311 - val_loss: 1.8354 - val_accuracy: 0.3474 - val_precision: 0.3494 - val_recall: 0.3041\n",
            "Epoch 4/60\n",
            "53/53 [==============================] - 9s 169ms/step - loss: 0.3182 - accuracy: 0.8801 - precision: 0.8905 - recall: 0.8644 - val_loss: 2.3896 - val_accuracy: 0.3401 - val_precision: 0.3367 - val_recall: 0.3179\n",
            "Epoch 5/60\n",
            "53/53 [==============================] - 9s 180ms/step - loss: 0.1628 - accuracy: 0.9409 - precision: 0.9452 - recall: 0.9368 - val_loss: 2.1200 - val_accuracy: 0.4489 - val_precision: 0.4505 - val_recall: 0.4345\n",
            "Epoch 6/60\n",
            "53/53 [==============================] - 9s 170ms/step - loss: 0.0706 - accuracy: 0.9754 - precision: 0.9774 - recall: 0.9745 - val_loss: 3.0959 - val_accuracy: 0.4056 - val_precision: 0.4076 - val_recall: 0.3990\n",
            "Epoch 7/60\n",
            "53/53 [==============================] - 9s 170ms/step - loss: 0.0528 - accuracy: 0.9846 - precision: 0.9849 - recall: 0.9843 - val_loss: 2.9303 - val_accuracy: 0.4934 - val_precision: 0.4957 - val_recall: 0.4898\n",
            "Epoch 8/60\n",
            "53/53 [==============================] - 9s 172ms/step - loss: 0.0154 - accuracy: 0.9967 - precision: 0.9967 - recall: 0.9967 - val_loss: 3.4082 - val_accuracy: 0.4730 - val_precision: 0.4755 - val_recall: 0.4724\n",
            "Epoch 9/60\n",
            "53/53 [==============================] - 9s 172ms/step - loss: 0.0076 - accuracy: 0.9988 - precision: 0.9991 - recall: 0.9988 - val_loss: 3.2878 - val_accuracy: 0.5126 - val_precision: 0.5136 - val_recall: 0.5102\n",
            "Epoch 10/60\n",
            "53/53 [==============================] - 9s 173ms/step - loss: 0.0013 - accuracy: 1.0000 - precision: 1.0000 - recall: 1.0000 - val_loss: 3.7058 - val_accuracy: 0.5030 - val_precision: 0.5039 - val_recall: 0.5018\n",
            "Epoch 11/60\n",
            "53/53 [==============================] - 9s 175ms/step - loss: 4.5181e-04 - accuracy: 1.0000 - precision: 1.0000 - recall: 1.0000 - val_loss: 3.7405 - val_accuracy: 0.5054 - val_precision: 0.5069 - val_recall: 0.5054\n",
            "Epoch 12/60\n",
            "53/53 [==============================] - 9s 168ms/step - loss: 3.2166e-04 - accuracy: 1.0000 - precision: 1.0000 - recall: 1.0000 - val_loss: 3.8502 - val_accuracy: 0.5024 - val_precision: 0.5039 - val_recall: 0.5024\n",
            "Epoch 13/60\n",
            "53/53 [==============================] - 9s 172ms/step - loss: 2.6689e-04 - accuracy: 1.0000 - precision: 1.0000 - recall: 1.0000 - val_loss: 3.8976 - val_accuracy: 0.5030 - val_precision: 0.5039 - val_recall: 0.5030\n",
            "Epoch 14/60\n",
            "53/53 [==============================] - 9s 174ms/step - loss: 2.1858e-04 - accuracy: 1.0000 - precision: 1.0000 - recall: 1.0000 - val_loss: 3.8863 - val_accuracy: 0.5090 - val_precision: 0.5096 - val_recall: 0.5090\n",
            "Epoch 15/60\n",
            "53/53 [==============================] - 9s 173ms/step - loss: 1.8475e-04 - accuracy: 1.0000 - precision: 1.0000 - recall: 1.0000 - val_loss: 3.9765 - val_accuracy: 0.5108 - val_precision: 0.5111 - val_recall: 0.5102\n",
            "Epoch 16/60\n",
            "53/53 [==============================] - 9s 169ms/step - loss: 1.6180e-04 - accuracy: 1.0000 - precision: 1.0000 - recall: 1.0000 - val_loss: 4.0750 - val_accuracy: 0.5060 - val_precision: 0.5066 - val_recall: 0.5054\n",
            "Epoch 17/60\n",
            "53/53 [==============================] - 9s 170ms/step - loss: 1.4095e-04 - accuracy: 1.0000 - precision: 1.0000 - recall: 1.0000 - val_loss: 4.1337 - val_accuracy: 0.5048 - val_precision: 0.5054 - val_recall: 0.5042\n",
            "Epoch 18/60\n",
            "53/53 [==============================] - 9s 173ms/step - loss: 1.2546e-04 - accuracy: 1.0000 - precision: 1.0000 - recall: 1.0000 - val_loss: 4.0706 - val_accuracy: 0.5126 - val_precision: 0.5132 - val_recall: 0.5126\n",
            "Epoch 19/60\n",
            "53/53 [==============================] - 9s 171ms/step - loss: 1.1084e-04 - accuracy: 1.0000 - precision: 1.0000 - recall: 1.0000 - val_loss: 4.1488 - val_accuracy: 0.5096 - val_precision: 0.5099 - val_recall: 0.5096\n",
            "Epoch 20/60\n",
            "53/53 [==============================] - 9s 172ms/step - loss: 1.0101e-04 - accuracy: 1.0000 - precision: 1.0000 - recall: 1.0000 - val_loss: 4.2462 - val_accuracy: 0.5036 - val_precision: 0.5042 - val_recall: 0.5036\n",
            "Epoch 21/60\n",
            "53/53 [==============================] - 9s 169ms/step - loss: 8.9960e-05 - accuracy: 1.0000 - precision: 1.0000 - recall: 1.0000 - val_loss: 4.2545 - val_accuracy: 0.5096 - val_precision: 0.5108 - val_recall: 0.5096\n",
            "Epoch 22/60\n",
            "53/53 [==============================] - 9s 170ms/step - loss: 8.2674e-05 - accuracy: 1.0000 - precision: 1.0000 - recall: 1.0000 - val_loss: 4.2230 - val_accuracy: 0.5144 - val_precision: 0.5157 - val_recall: 0.5144\n",
            "Epoch 23/60\n",
            "53/53 [==============================] - 9s 170ms/step - loss: 7.4012e-05 - accuracy: 1.0000 - precision: 1.0000 - recall: 1.0000 - val_loss: 4.2993 - val_accuracy: 0.5108 - val_precision: 0.5117 - val_recall: 0.5108\n",
            "Epoch 24/60\n",
            "53/53 [==============================] - 9s 169ms/step - loss: 6.7625e-05 - accuracy: 1.0000 - precision: 1.0000 - recall: 1.0000 - val_loss: 4.3159 - val_accuracy: 0.5120 - val_precision: 0.5129 - val_recall: 0.5120\n",
            "Epoch 25/60\n",
            "53/53 [==============================] - 9s 169ms/step - loss: 6.3807e-05 - accuracy: 1.0000 - precision: 1.0000 - recall: 1.0000 - val_loss: 4.3306 - val_accuracy: 0.5120 - val_precision: 0.5123 - val_recall: 0.5114\n",
            "Epoch 26/60\n",
            "53/53 [==============================] - 9s 168ms/step - loss: 5.6871e-05 - accuracy: 1.0000 - precision: 1.0000 - recall: 1.0000 - val_loss: 4.3631 - val_accuracy: 0.5138 - val_precision: 0.5141 - val_recall: 0.5132\n",
            "Epoch 27/60\n",
            "53/53 [==============================] - 9s 170ms/step - loss: 5.3668e-05 - accuracy: 1.0000 - precision: 1.0000 - recall: 1.0000 - val_loss: 4.4080 - val_accuracy: 0.5120 - val_precision: 0.5133 - val_recall: 0.5120\n",
            "Epoch 28/60\n",
            "53/53 [==============================] - 9s 172ms/step - loss: 4.9814e-05 - accuracy: 1.0000 - precision: 1.0000 - recall: 1.0000 - val_loss: 4.3972 - val_accuracy: 0.5162 - val_precision: 0.5168 - val_recall: 0.5162\n",
            "Epoch 29/60\n",
            "53/53 [==============================] - 9s 170ms/step - loss: 4.5915e-05 - accuracy: 1.0000 - precision: 1.0000 - recall: 1.0000 - val_loss: 4.4648 - val_accuracy: 0.5132 - val_precision: 0.5138 - val_recall: 0.5132\n",
            "Epoch 30/60\n",
            "53/53 [==============================] - 9s 170ms/step - loss: 4.2776e-05 - accuracy: 1.0000 - precision: 1.0000 - recall: 1.0000 - val_loss: 4.5180 - val_accuracy: 0.5084 - val_precision: 0.5093 - val_recall: 0.5084\n",
            "Epoch 31/60\n",
            "53/53 [==============================] - 9s 170ms/step - loss: 4.0199e-05 - accuracy: 1.0000 - precision: 1.0000 - recall: 1.0000 - val_loss: 4.5082 - val_accuracy: 0.5126 - val_precision: 0.5132 - val_recall: 0.5126\n",
            "Epoch 32/60\n",
            "53/53 [==============================] - 9s 171ms/step - loss: 3.7567e-05 - accuracy: 1.0000 - precision: 1.0000 - recall: 1.0000 - val_loss: 4.5384 - val_accuracy: 0.5096 - val_precision: 0.5102 - val_recall: 0.5096\n",
            "Epoch 33/60\n",
            "53/53 [==============================] - 9s 168ms/step - loss: 3.5158e-05 - accuracy: 1.0000 - precision: 1.0000 - recall: 1.0000 - val_loss: 4.5309 - val_accuracy: 0.5150 - val_precision: 0.5160 - val_recall: 0.5150\n",
            "Epoch 34/60\n",
            "53/53 [==============================] - 9s 168ms/step - loss: 3.2549e-05 - accuracy: 1.0000 - precision: 1.0000 - recall: 1.0000 - val_loss: 4.5510 - val_accuracy: 0.5138 - val_precision: 0.5145 - val_recall: 0.5132\n",
            "Epoch 35/60\n",
            "53/53 [==============================] - 9s 169ms/step - loss: 3.0849e-05 - accuracy: 1.0000 - precision: 1.0000 - recall: 1.0000 - val_loss: 4.6195 - val_accuracy: 0.5102 - val_precision: 0.5111 - val_recall: 0.5102\n",
            "Epoch 36/60\n",
            "53/53 [==============================] - 9s 172ms/step - loss: 2.9034e-05 - accuracy: 1.0000 - precision: 1.0000 - recall: 1.0000 - val_loss: 4.6154 - val_accuracy: 0.5126 - val_precision: 0.5135 - val_recall: 0.5126\n",
            "Epoch 37/60\n",
            "53/53 [==============================] - 9s 171ms/step - loss: 2.7213e-05 - accuracy: 1.0000 - precision: 1.0000 - recall: 1.0000 - val_loss: 4.6288 - val_accuracy: 0.5120 - val_precision: 0.5123 - val_recall: 0.5114\n",
            "Epoch 38/60\n",
            "53/53 [==============================] - 9s 169ms/step - loss: 2.5925e-05 - accuracy: 1.0000 - precision: 1.0000 - recall: 1.0000 - val_loss: 4.6478 - val_accuracy: 0.5144 - val_precision: 0.5154 - val_recall: 0.5144\n",
            "Epoch 39/60\n",
            "53/53 [==============================] - 9s 169ms/step - loss: 2.4845e-05 - accuracy: 1.0000 - precision: 1.0000 - recall: 1.0000 - val_loss: 4.6587 - val_accuracy: 0.5144 - val_precision: 0.5154 - val_recall: 0.5144\n",
            "Epoch 40/60\n",
            "53/53 [==============================] - 9s 168ms/step - loss: 2.2935e-05 - accuracy: 1.0000 - precision: 1.0000 - recall: 1.0000 - val_loss: 4.6863 - val_accuracy: 0.5150 - val_precision: 0.5154 - val_recall: 0.5144\n",
            "Epoch 41/60\n",
            "53/53 [==============================] - 9s 169ms/step - loss: 2.1818e-05 - accuracy: 1.0000 - precision: 1.0000 - recall: 1.0000 - val_loss: 4.7073 - val_accuracy: 0.5114 - val_precision: 0.5120 - val_recall: 0.5108\n",
            "Epoch 42/60\n",
            "53/53 [==============================] - 9s 172ms/step - loss: 2.0558e-05 - accuracy: 1.0000 - precision: 1.0000 - recall: 1.0000 - val_loss: 4.7285 - val_accuracy: 0.5126 - val_precision: 0.5129 - val_recall: 0.5120\n",
            "Epoch 43/60\n",
            "53/53 [==============================] - 9s 168ms/step - loss: 1.9308e-05 - accuracy: 1.0000 - precision: 1.0000 - recall: 1.0000 - val_loss: 4.7856 - val_accuracy: 0.5114 - val_precision: 0.5123 - val_recall: 0.5114\n",
            "Epoch 44/60\n",
            "53/53 [==============================] - 9s 168ms/step - loss: 1.8466e-05 - accuracy: 1.0000 - precision: 1.0000 - recall: 1.0000 - val_loss: 4.7442 - val_accuracy: 0.5156 - val_precision: 0.5172 - val_recall: 0.5156\n",
            "Epoch 45/60\n",
            "53/53 [==============================] - 9s 170ms/step - loss: 1.7668e-05 - accuracy: 1.0000 - precision: 1.0000 - recall: 1.0000 - val_loss: 4.7547 - val_accuracy: 0.5144 - val_precision: 0.5151 - val_recall: 0.5138\n",
            "Epoch 46/60\n",
            "53/53 [==============================] - 9s 169ms/step - loss: 1.6535e-05 - accuracy: 1.0000 - precision: 1.0000 - recall: 1.0000 - val_loss: 4.8498 - val_accuracy: 0.5120 - val_precision: 0.5123 - val_recall: 0.5120\n",
            "Epoch 47/60\n",
            "53/53 [==============================] - 9s 168ms/step - loss: 1.5684e-05 - accuracy: 1.0000 - precision: 1.0000 - recall: 1.0000 - val_loss: 4.8360 - val_accuracy: 0.5132 - val_precision: 0.5132 - val_recall: 0.5126\n",
            "Epoch 48/60\n",
            "53/53 [==============================] - 9s 170ms/step - loss: 1.4944e-05 - accuracy: 1.0000 - precision: 1.0000 - recall: 1.0000 - val_loss: 4.8352 - val_accuracy: 0.5162 - val_precision: 0.5165 - val_recall: 0.5162\n",
            "Epoch 49/60\n",
            "53/53 [==============================] - 9s 173ms/step - loss: 1.4246e-05 - accuracy: 1.0000 - precision: 1.0000 - recall: 1.0000 - val_loss: 4.8873 - val_accuracy: 0.5126 - val_precision: 0.5129 - val_recall: 0.5126\n",
            "Epoch 50/60\n",
            "53/53 [==============================] - 9s 169ms/step - loss: 1.3622e-05 - accuracy: 1.0000 - precision: 1.0000 - recall: 1.0000 - val_loss: 4.8906 - val_accuracy: 0.5138 - val_precision: 0.5139 - val_recall: 0.5126\n",
            "Epoch 51/60\n",
            "53/53 [==============================] - 9s 169ms/step - loss: 1.3060e-05 - accuracy: 1.0000 - precision: 1.0000 - recall: 1.0000 - val_loss: 4.8820 - val_accuracy: 0.5150 - val_precision: 0.5163 - val_recall: 0.5150\n",
            "Epoch 52/60\n",
            "53/53 [==============================] - 9s 171ms/step - loss: 1.2358e-05 - accuracy: 1.0000 - precision: 1.0000 - recall: 1.0000 - val_loss: 4.9484 - val_accuracy: 0.5120 - val_precision: 0.5126 - val_recall: 0.5120\n",
            "Epoch 53/60\n",
            "53/53 [==============================] - 9s 169ms/step - loss: 1.2153e-05 - accuracy: 1.0000 - precision: 1.0000 - recall: 1.0000 - val_loss: 4.9132 - val_accuracy: 0.5138 - val_precision: 0.5148 - val_recall: 0.5138\n",
            "Epoch 54/60\n",
            "53/53 [==============================] - 9s 169ms/step - loss: 1.1375e-05 - accuracy: 1.0000 - precision: 1.0000 - recall: 1.0000 - val_loss: 4.9686 - val_accuracy: 0.5126 - val_precision: 0.5129 - val_recall: 0.5126\n",
            "Epoch 55/60\n",
            "53/53 [==============================] - 9s 171ms/step - loss: 1.0778e-05 - accuracy: 1.0000 - precision: 1.0000 - recall: 1.0000 - val_loss: 4.9463 - val_accuracy: 0.5138 - val_precision: 0.5148 - val_recall: 0.5138\n",
            "Epoch 56/60\n",
            "53/53 [==============================] - 9s 170ms/step - loss: 1.0344e-05 - accuracy: 1.0000 - precision: 1.0000 - recall: 1.0000 - val_loss: 4.9559 - val_accuracy: 0.5132 - val_precision: 0.5141 - val_recall: 0.5132\n",
            "Epoch 57/60\n",
            "53/53 [==============================] - 9s 170ms/step - loss: 9.9158e-06 - accuracy: 1.0000 - precision: 1.0000 - recall: 1.0000 - val_loss: 4.9673 - val_accuracy: 0.5186 - val_precision: 0.5193 - val_recall: 0.5186\n",
            "Epoch 58/60\n",
            "53/53 [==============================] - 9s 170ms/step - loss: 9.4230e-06 - accuracy: 1.0000 - precision: 1.0000 - recall: 1.0000 - val_loss: 5.0083 - val_accuracy: 0.5138 - val_precision: 0.5141 - val_recall: 0.5132\n",
            "Epoch 59/60\n",
            "53/53 [==============================] - 9s 173ms/step - loss: 9.0434e-06 - accuracy: 1.0000 - precision: 1.0000 - recall: 1.0000 - val_loss: 4.9543 - val_accuracy: 0.5168 - val_precision: 0.5172 - val_recall: 0.5162\n",
            "Epoch 60/60\n",
            "53/53 [==============================] - 9s 170ms/step - loss: 8.5991e-06 - accuracy: 1.0000 - precision: 1.0000 - recall: 1.0000 - val_loss: 5.0158 - val_accuracy: 0.5150 - val_precision: 0.5154 - val_recall: 0.5144\n"
          ]
        }
      ]
    },
    {
      "cell_type": "code",
      "metadata": {
        "id": "iq52IHqZT2_8"
      },
      "source": [
        "acc = history.history['accuracy']\n",
        "val_acc = history.history['val_accuracy']\n",
        "\n",
        "loss = history.history['loss']\n",
        "val_loss = history.history['val_loss']\n",
        "\n",
        "prec = history.history['precision']\n",
        "val_prec = history.history['val_precision']\n",
        "\n",
        "recall = history.history['recall']\n",
        "val_recall = history.history['val_recall']\n",
        "\n",
        "epochs_range = range(60)"
      ],
      "execution_count": 13,
      "outputs": []
    },
    {
      "cell_type": "code",
      "metadata": {
        "colab": {
          "base_uri": "https://localhost:8080/",
          "height": 516
        },
        "id": "JeuVJrFwe2ky",
        "outputId": "d617b8a0-2f2b-4398-ee1c-442b8d9432c4"
      },
      "source": [
        "plt.figure(figsize=(12, 8))\n",
        "plt.plot(epochs_range, acc, label='Training Accuracy')\n",
        "plt.plot(epochs_range, val_acc, label='Validation Accuracy')\n",
        "plt.title('Training and Validation Accuracy')\n",
        "plt.legend()"
      ],
      "execution_count": 14,
      "outputs": [
        {
          "output_type": "execute_result",
          "data": {
            "text/plain": [
              "<matplotlib.legend.Legend at 0x7f3d14355890>"
            ]
          },
          "metadata": {},
          "execution_count": 14
        },
        {
          "output_type": "display_data",
          "data": {
            "image/png": "[encoded data removed]",
            "text/plain": [
              "<Figure size 864x576 with 1 Axes>"
            ]
          },
          "metadata": {
            "needs_background": "light"
          }
        }
      ]
    },
    {
      "cell_type": "code",
      "metadata": {
        "colab": {
          "base_uri": "https://localhost:8080/",
          "height": 516
        },
        "id": "DIX3LqW3fU2H",
        "outputId": "ec1b7f56-0204-47d0-9fb3-111c8c83ddbb"
      },
      "source": [
        "plt.figure(figsize=(12, 8))\n",
        "plt.plot(epochs_range, loss, label='Training Loss')\n",
        "plt.plot(epochs_range, val_loss, label='Validation Loss')\n",
        "plt.title('Training and Validation Loss')\n",
        "plt.legend()"
      ],
      "execution_count": 15,
      "outputs": [
        {
          "output_type": "execute_result",
          "data": {
            "text/plain": [
              "<matplotlib.legend.Legend at 0x7f3d14058b50>"
            ]
          },
          "metadata": {},
          "execution_count": 15
        },
        {
          "output_type": "display_data",
          "data": {
            "image/png": "[encoded data removed]",
            "text/plain": [
              "<Figure size 864x576 with 1 Axes>"
            ]
          },
          "metadata": {
            "needs_background": "light"
          }
        }
      ]
    },
    {
      "cell_type": "code",
      "metadata": {
        "colab": {
          "base_uri": "https://localhost:8080/",
          "height": 516
        },
        "id": "rq6s0lq3fjPH",
        "outputId": "d499f939-9d5a-469d-f4e9-90ab645cd7a1"
      },
      "source": [
        "plt.figure(figsize=(12, 8))\n",
        "plt.plot(epochs_range, prec, label='Training Precision')\n",
        "plt.plot(epochs_range, val_prec, label='Validation Precision')\n",
        "plt.title('Training and Validation Precision')\n",
        "plt.legend()"
      ],
      "execution_count": 16,
      "outputs": [
        {
          "output_type": "execute_result",
          "data": {
            "text/plain": [
              "<matplotlib.legend.Legend at 0x7f3d0255ea50>"
            ]
          },
          "metadata": {},
          "execution_count": 16
        },
        {
          "output_type": "display_data",
          "data": {
            "image/png": "[encoded data removed]",
            "text/plain": [
              "<Figure size 864x576 with 1 Axes>"
            ]
          },
          "metadata": {
            "needs_background": "light"
          }
        }
      ]
    },
    {
      "cell_type": "code",
      "metadata": {
        "colab": {
          "base_uri": "https://localhost:8080/",
          "height": 516
        },
        "id": "9xdf8Fq2fsOc",
        "outputId": "68b51d4a-fa65-4368-b3b0-9b459a4252bf"
      },
      "source": [
        "plt.figure(figsize=(12, 8))\n",
        "plt.plot(epochs_range, recall, label='Training Recall')\n",
        "plt.plot(epochs_range, val_recall, label='Validation Recall')\n",
        "plt.title('Training and Validation Recall')\n",
        "plt.legend()"
      ],
      "execution_count": 17,
      "outputs": [
        {
          "output_type": "execute_result",
          "data": {
            "text/plain": [
              "<matplotlib.legend.Legend at 0x7f3d024e3250>"
            ]
          },
          "metadata": {},
          "execution_count": 17
        },
        {
          "output_type": "display_data",
          "data": {
            "image/png": "[encoded data removed]",
            "text/plain": [
              "<Figure size 864x576 with 1 Axes>"
            ]
          },
          "metadata": {
            "needs_background": "light"
          }
        }
      ]
    },
    {
      "cell_type": "markdown",
      "metadata": {
        "id": "QLSoP0Qy0IbQ"
      },
      "source": [
        "Based on all the charts, this initial model is severly overfit. After about 8 epochs the model stops improving. Model is slightly better than the base model with the best Accuracy score at about 52%, the best Precision was about 52% and Recall was about 52%."
      ]
    },
    {
      "cell_type": "code",
      "metadata": {
        "id": "0RoGAyBEgIdy"
      },
      "source": [
        ""
      ],
      "execution_count": null,
      "outputs": []
    }
  ]
}