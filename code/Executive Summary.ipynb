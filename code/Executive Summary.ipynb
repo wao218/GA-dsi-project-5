{
 "cells": [
  {
   "cell_type": "code",
   "execution_count": 1,
   "id": "b7c08260-6fdd-42ab-b24e-cd93798c8378",
   "metadata": {},
   "outputs": [],
   "source": [
    "## Problem state"
   ]
  },
  {
   "cell_type": "markdown",
   "id": "275eae78-b0bd-4e09-af26-3e49e4dccc28",
   "metadata": {},
   "source": [
    "# ![](https://ga-dash.s3.amazonaws.com/production/assets/logo-9f88ae6c9c3871690e33280fcf557f33.png) \n",
    "\n",
    "# Project 5: Predicting Demensia\n",
    "\n",
    "## Problem Statement\n",
    "\n",
    "You are a data science team that has been tasked by the UK government to develop a diagnostic solution that can improve the prediction rates of dementia and Alzheimer's within UK hospitals.  Using a Convolutional Neural Network on brain scan imaging, our group wishes to predict Alzheimer's disease with at least 50% accuracy and a recall of at least 64%. This metric is benchmarked to the average diagnostic performance of hospitals across the UK for patients, and an improvement in detection here can mean better outcomes and care for those within its early stages.\n",
    "\n",
    "\n",
    "## Background\n",
    "\n",
    "Alzheimer's disease is the most common influencer of dementia, as 62% of dementia cases are explained by the onset of Alzheimer's. The difference between the two diseases is shown below.\n",
    "\n",
    "![](../support/vs.jpg)\n",
    "\n",
    "The early diagnosis of both these conditions, can greatly influence outcomes as treatment is available earlier, improving quality of life on behalf of patients, and reducing the overall impact of dementia on the economy, as care costs are lower and patients are able to continue working for longer.\n",
    "\n",
    "In the United Kingdom, healthcare entities are instrumental in the recognition of dementia in the community. However data suggests that current diagnostic effectiveness in the UK is less than ideal, and in a position to be improved. In 2018, Alzheimer's Research UK indicated that the diagnosis of dementia was only 67% effective ([*Source*](https://www.dementiastatistics.org/statistics/diagnoses-in-the-uk/)), suggesting that a third of patients did not receive a correct diagnosis. In individual healthcare systems in the UK, the range on this diagnosis varies anywhere from 54% to 80% ([*Source*](https://www.ncbi.nlm.nih.gov/pmc/articles/PMC6935598/)), as privacy policies and a lack of communication between systems can limit a practioner's ability to fully evaluate a patient. Even for patients with prior diagnosis of dementia, as one UCL study found, the identification rates of dementia by the hospitals they later attended was only 64% in 2016 ([*Source*](https://www.ucl.ac.uk/news/2018/apr/hospitals-often-missing-dementia-despite-prior-diagnosis)). \n",
    "\n",
    "The identification of dementia and Alzheimer's is critical to the current healthcare system in the UK, and improved outcomes can be attained by the improved effectiveness of diagnostic imaging via deep learning. In other [*regions*](https://mymodernmet.com/algorithm-identifies-alzheimers-brain-changes/), this is already the case, as algorithms are being developed as a means of filling diagnostic gaps worldwide.\n",
    "\n",
    "#### Sources\n",
    "\n",
    "- Diagnoses in the UK. Dementia Statistics Hub. (2021, July 7). Retrieved October 1, 2021, from https://www.dementiastatistics.org/statistics/diagnoses-in-the-uk/. \n",
    "\n",
    "- Rasmussen, J., &amp; Langerman, H. (2019, December 24). Alzheimer's disease - why we need early diagnosis. Degenerative neurological and neuromuscular disease. Retrieved October 1, 2021, from https://www.ncbi.nlm.nih.gov/pmc/articles/PMC6935598/. \n",
    "\n",
    "- Ototo, Shovava, Day, T. is A., Comma, &amp; Colorsheets, V. (2021, September 30). New algorithm accurately spots early signs of brain changes before alzheimer's disease. My Modern Met. Retrieved October 1, 2021, from https://mymodernmet.com/algorithm-identifies-alzheimers-brain-changes/. \n",
    "\n",
    "- Ucl. (2019, June 28). Hospitals often missing dementia despite prior diagnosis. UCL News. Retrieved October 1, 2021, from https://www.ucl.ac.uk/news/2018/apr/hospitals-often-missing-dementia-despite-prior-diagnosis. \n",
    "\n",
    "\n",
    "\n",
    "## The Data\n",
    "\n",
    "The data we are using for this project can be found on [Kaggle](https://www.kaggle.com/tourist55/alzheimers-dataset-4-class-of-images)\n",
    "\n",
    "#### Where it originated\n",
    "\n",
    "The data is a random sampling of brain scans, initially hand collected from various websites with each and every classification was verified.\n",
    "\n",
    "#### What it is\n",
    "\n",
    "The data consists of 6,400 MRI images. The data has four classes of images that show severity, classified both in a training set as well as a testing set:\n",
    "\n",
    "Mild Demented\n",
    "Moderate Demented\n",
    "Non Demented\n",
    "Very Mild Demented\n",
    "\n",
    "\n",
    "## Modeling and Selection\n",
    "\n",
    "\n",
    "\n",
    "\n",
    "\n",
    "\n",
    "## Conclusions and Recommendations\n",
    "\n",
    "\n"
   ]
  }
 ],
 "metadata": {
  "kernelspec": {
   "display_name": "Python [conda env:dsi]",
   "language": "python",
   "name": "conda-env-dsi-py"
  },
  "language_info": {
   "codemirror_mode": {
    "name": "ipython",
    "version": 3
   },
   "file_extension": ".py",
   "mimetype": "text/x-python",
   "name": "python",
   "nbconvert_exporter": "python",
   "pygments_lexer": "ipython3",
   "version": "3.8.8"
  }
 },
 "nbformat": 4,
 "nbformat_minor": 5
}
