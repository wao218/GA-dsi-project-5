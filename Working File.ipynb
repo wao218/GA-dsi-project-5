{
 "cells": [
  {
   "cell_type": "code",
   "execution_count": null,
   "id": "b7c08260-6fdd-42ab-b24e-cd93798c8378",
   "metadata": {},
   "outputs": [],
   "source": [
    "## Problem state"
   ]
  }
 ],
 "metadata": {
  "kernelspec": {
   "display_name": "Python [conda env:dsi]",
   "language": "python",
   "name": "conda-env-dsi-py"
  },
  "language_info": {
   "codemirror_mode": {
    "name": "ipython",
    "version": 3
   },
   "file_extension": ".py",
   "mimetype": "text/x-python",
   "name": "python",
   "nbconvert_exporter": "python",
   "pygments_lexer": "ipython3",
   "version": "3.8.8"
  }
 },
 "nbformat": 4,
 "nbformat_minor": 5
}
