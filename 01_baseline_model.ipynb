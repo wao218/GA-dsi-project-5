{
  "nbformat": 4,
  "nbformat_minor": 0,
  "metadata": {
    "colab": {
      "name": "01-baseline-model.ipynb",
      "provenance": []
    },
    "kernelspec": {
      "display_name": "Python 3",
      "name": "python3"
    },
    "language_info": {
      "name": "python"
    }
  },
  "cells": [
    {
      "cell_type": "markdown",
      "metadata": {
        "id": "AxgtT79dgW4L"
      },
      "source": [
        "<img src=\"http://imgur.com/1ZcRyrc.png\" style=\"float: left; margin: 20px; height: 55px\">\n",
        "\n",
        "# Project 4: Alzheimer's Image Classification\n",
        "\n",
        "---\n",
        "## Problem Statement\n",
        "\n",
        "Fill this in\n",
        "\n",
        "---"
      ]
    },
    {
      "cell_type": "code",
      "metadata": {
        "id": "EetieFZ6aMwb",
        "colab": {
          "base_uri": "https://localhost:8080/"
        },
        "outputId": "08ace6b9-4104-4032-acbe-5df360c91e5d"
      },
      "source": [
        "from google.colab import drive\n",
        "drive.mount('/content/drive')"
      ],
      "execution_count": 1,
      "outputs": [
        {
          "output_type": "stream",
          "name": "stdout",
          "text": [
            "Mounted at /content/drive\n"
          ]
        }
      ]
    },
    {
      "cell_type": "code",
      "metadata": {
        "id": "aFHEY0g8RtW7",
        "colab": {
          "base_uri": "https://localhost:8080/"
        },
        "outputId": "d48f81a9-9baa-40bb-85be-fdefb6450e84"
      },
      "source": [
        "%tensorflow_version 2.x\n",
        "import tensorflow as tf\n",
        "print(\"Tensorflow version \" + tf.__version__)\n",
        "device_name = tf.test.gpu_device_name()\n",
        "if device_name != '/device:GPU:0':\n",
        "  raise SystemError('GPU device not found')\n",
        "print('Found GPU at: {}'.format(device_name))"
      ],
      "execution_count": 2,
      "outputs": [
        {
          "output_type": "stream",
          "name": "stdout",
          "text": [
            "Tensorflow version 2.6.0\n",
            "Found GPU at: /device:GPU:0\n"
          ]
        }
      ]
    },
    {
      "cell_type": "code",
      "metadata": {
        "id": "s9RxIgT5alfU"
      },
      "source": [
        "# Imports\n",
        "import numpy as np\n",
        "import pandas as pd\n",
        "import matplotlib.pyplot as plt\n",
        "\n",
        "from tensorflow.keras.preprocessing.image import ImageDataGenerator\n",
        "from tensorflow.keras.models import Sequential\n",
        "from tensorflow.keras.layers import Dense, Dropout, Flatten, Conv2D, MaxPooling2D\n",
        "from tensorflow.keras.metrics import Precision, Recall"
      ],
      "execution_count": 3,
      "outputs": []
    },
    {
      "cell_type": "markdown",
      "metadata": {
        "id": "gS9FZ83rgpXu"
      },
      "source": [
        "## Baseline Neural Network"
      ]
    },
    {
      "cell_type": "markdown",
      "metadata": {
        "id": "fmbFIa7QyHOs"
      },
      "source": [
        "### Train and Test Data"
      ]
    },
    {
      "cell_type": "code",
      "metadata": {
        "colab": {
          "base_uri": "https://localhost:8080/"
        },
        "id": "Q3dONkp6gAnF",
        "outputId": "13befdf3-790b-4569-eb23-dafffe07a30b"
      },
      "source": [
        "# Create Test and Train \n",
        "train_datagen = ImageDataGenerator(rescale=1.0/255, validation_split=0.33)\n",
        "test_datagen = ImageDataGenerator(rescale=1.0/255)\n",
        "\n",
        "train_dir = '/content/drive/MyDrive/data/train'\n",
        "test_dir = '/content/drive/MyDrive/data/test'\n",
        "\n",
        "train_gen = train_datagen.flow_from_directory(\n",
        "    train_dir,\n",
        "    target_size=(250, 250),\n",
        "    batch_size=64,\n",
        "    class_mode='categorical',\n",
        "    subset='training'\n",
        ")\n",
        "\n",
        "validation_gen = train_datagen.flow_from_directory(\n",
        "    train_dir,\n",
        "    target_size=(250, 250),\n",
        "    batch_size=64,\n",
        "    class_mode='categorical',\n",
        "    subset='validation'\n",
        ")\n",
        "\n",
        "test_gen = test_datagen.flow_from_directory(\n",
        "    test_dir,\n",
        "    target_size=(250, 250),\n",
        "    batch_size=64,\n",
        "    class_mode='categorical'\n",
        ")"
      ],
      "execution_count": 4,
      "outputs": [
        {
          "output_type": "stream",
          "name": "stdout",
          "text": [
            "Found 3433 images belonging to 4 classes.\n",
            "Found 1688 images belonging to 4 classes.\n",
            "Found 1279 images belonging to 4 classes.\n"
          ]
        }
      ]
    },
    {
      "cell_type": "code",
      "metadata": {
        "colab": {
          "base_uri": "https://localhost:8080/"
        },
        "id": "byFbzjEQ_Eaz",
        "outputId": "a549f701-a2ac-4e05-91f2-bdf8da7cd128"
      },
      "source": [
        "train_steps = train_gen.samples // train_gen.batch_size\n",
        "val_steps = validation_gen.samples // validation_gen.batch_size\n",
        "print(train_steps)\n",
        "print(val_steps)"
      ],
      "execution_count": 5,
      "outputs": [
        {
          "output_type": "stream",
          "name": "stdout",
          "text": [
            "53\n",
            "26\n"
          ]
        }
      ]
    },
    {
      "cell_type": "code",
      "metadata": {
        "colab": {
          "base_uri": "https://localhost:8080/"
        },
        "id": "b6w8Fm26kax-",
        "outputId": "8dd3d131-7c3b-4f9b-e957-d51402b87160"
      },
      "source": [
        "train_gen.class_indices"
      ],
      "execution_count": 6,
      "outputs": [
        {
          "output_type": "execute_result",
          "data": {
            "text/plain": [
              "{'MildDemented': 0,\n",
              " 'ModerateDemented': 1,\n",
              " 'NonDemented': 2,\n",
              " 'VeryMildDemented': 3}"
            ]
          },
          "metadata": {},
          "execution_count": 6
        }
      ]
    },
    {
      "cell_type": "code",
      "metadata": {
        "colab": {
          "base_uri": "https://localhost:8080/"
        },
        "id": "cqi0s6tUkfxj",
        "outputId": "cb585701-360b-491f-9bb6-4da79fd5e259"
      },
      "source": [
        "train_gen.image_shape"
      ],
      "execution_count": 7,
      "outputs": [
        {
          "output_type": "execute_result",
          "data": {
            "text/plain": [
              "(250, 250, 3)"
            ]
          },
          "metadata": {},
          "execution_count": 7
        }
      ]
    },
    {
      "cell_type": "code",
      "metadata": {
        "colab": {
          "base_uri": "https://localhost:8080/"
        },
        "id": "FJJAYPeAME4R",
        "outputId": "e635bab2-923c-4839-f89e-d56330b65d7b"
      },
      "source": [
        "pd.Series(test_gen.classes).value_counts(normalize=True)"
      ],
      "execution_count": 8,
      "outputs": [
        {
          "output_type": "execute_result",
          "data": {
            "text/plain": [
              "2    0.500391\n",
              "3    0.350274\n",
              "0    0.139953\n",
              "1    0.009382\n",
              "dtype: float64"
            ]
          },
          "metadata": {},
          "execution_count": 8
        }
      ]
    },
    {
      "cell_type": "markdown",
      "metadata": {
        "id": "ZDfBkfNPer8t"
      },
      "source": [
        "Base line accuracy is 50%"
      ]
    },
    {
      "cell_type": "markdown",
      "metadata": {
        "id": "fuvXLHELzSFG"
      },
      "source": [
        "### Basic Convolutional Neural Network"
      ]
    },
    {
      "cell_type": "code",
      "metadata": {
        "id": "0CUgyNn3x4t_"
      },
      "source": [
        "# Neural Net architecture referenced from \"Deep Learning with Python by Francois Chollet: Chapter 5\"\n",
        "\n",
        "def create_model():\n",
        "  model = Sequential()\n",
        "  model.add(Conv2D(\n",
        "      filters=32,\n",
        "      kernel_size=(3, 3),\n",
        "      activation='relu',\n",
        "      input_shape=(250, 250, 3)\n",
        "  ))\n",
        "  model.add(MaxPooling2D(pool_size=(2, 2)))\n",
        "  model.add(Conv2D(\n",
        "      filters=64,\n",
        "      kernel_size=(3, 3),\n",
        "      activation='relu' \n",
        "  ))\n",
        "  model.add(MaxPooling2D(pool_size=(2, 2)))\n",
        "  model.add(Conv2D(\n",
        "      filters=128,\n",
        "      kernel_size=(3, 3),\n",
        "      activation='relu'\n",
        "  ))\n",
        "  model.add(MaxPooling2D(pool_size=(2, 2)))\n",
        "  model.add(Flatten())\n",
        "  model.add(Dense(256, activation='relu'))\n",
        "  model.add(Dense(4, activation='softmax'))\n",
        "  model.compile(loss='categorical_crossentropy', \n",
        "              optimizer='adam', \n",
        "              metrics=['accuracy', Precision(), Recall()])\n",
        "  return model"
      ],
      "execution_count": 9,
      "outputs": []
    },
    {
      "cell_type": "code",
      "metadata": {
        "colab": {
          "base_uri": "https://localhost:8080/"
        },
        "id": "YrRRRGnlgxOJ",
        "outputId": "9db316fd-f776-4870-b42e-c27aa3cc7281"
      },
      "source": [
        "model = create_model()\n",
        "model.summary()"
      ],
      "execution_count": 10,
      "outputs": [
        {
          "output_type": "stream",
          "name": "stdout",
          "text": [
            "Model: \"sequential\"\n",
            "_________________________________________________________________\n",
            "Layer (type)                 Output Shape              Param #   \n",
            "=================================================================\n",
            "conv2d (Conv2D)              (None, 248, 248, 32)      896       \n",
            "_________________________________________________________________\n",
            "max_pooling2d (MaxPooling2D) (None, 124, 124, 32)      0         \n",
            "_________________________________________________________________\n",
            "conv2d_1 (Conv2D)            (None, 122, 122, 64)      18496     \n",
            "_________________________________________________________________\n",
            "max_pooling2d_1 (MaxPooling2 (None, 61, 61, 64)        0         \n",
            "_________________________________________________________________\n",
            "conv2d_2 (Conv2D)            (None, 59, 59, 128)       73856     \n",
            "_________________________________________________________________\n",
            "max_pooling2d_2 (MaxPooling2 (None, 29, 29, 128)       0         \n",
            "_________________________________________________________________\n",
            "flatten (Flatten)            (None, 107648)            0         \n",
            "_________________________________________________________________\n",
            "dense (Dense)                (None, 256)               27558144  \n",
            "_________________________________________________________________\n",
            "dense_1 (Dense)              (None, 4)                 1028      \n",
            "=================================================================\n",
            "Total params: 27,652,420\n",
            "Trainable params: 27,652,420\n",
            "Non-trainable params: 0\n",
            "_________________________________________________________________\n"
          ]
        }
      ]
    },
    {
      "cell_type": "code",
      "metadata": {
        "id": "7yiTnS5sFwul",
        "colab": {
          "base_uri": "https://localhost:8080/"
        },
        "outputId": "d36f8179-f7e6-4fbd-eaf4-0992af80cb07"
      },
      "source": [
        "with tf.device('/device:GPU:0'):\n",
        "  history = model.fit(\n",
        "      train_gen,\n",
        "      validation_data=validation_gen,\n",
        "      epochs=30,\n",
        "      steps_per_epoch=train_steps,\n",
        "      validation_steps=val_steps\n",
        "  )"
      ],
      "execution_count": 11,
      "outputs": [
        {
          "output_type": "stream",
          "name": "stdout",
          "text": [
            "Epoch 1/30\n",
            "53/53 [==============================] - 1173s 22s/step - loss: 1.1615 - accuracy: 0.5209 - precision: 0.5684 - recall: 0.3069 - val_loss: 1.5526 - val_accuracy: 0.2085 - val_precision: 0.1930 - val_recall: 0.1352\n",
            "Epoch 2/30\n",
            "53/53 [==============================] - 12s 221ms/step - loss: 0.7442 - accuracy: 0.6866 - precision: 0.7238 - recall: 0.6106 - val_loss: 1.5998 - val_accuracy: 0.2855 - val_precision: 0.2781 - val_recall: 0.2302\n",
            "Epoch 3/30\n",
            "53/53 [==============================] - 12s 225ms/step - loss: 0.5038 - accuracy: 0.7854 - precision: 0.8132 - recall: 0.7572 - val_loss: 1.6217 - val_accuracy: 0.4195 - val_precision: 0.4204 - val_recall: 0.3918\n",
            "Epoch 4/30\n",
            "53/53 [==============================] - 12s 218ms/step - loss: 0.2853 - accuracy: 0.8949 - precision: 0.9051 - recall: 0.8833 - val_loss: 1.8952 - val_accuracy: 0.3972 - val_precision: 0.4030 - val_recall: 0.3834\n",
            "Epoch 5/30\n",
            "53/53 [==============================] - 12s 218ms/step - loss: 0.1472 - accuracy: 0.9484 - precision: 0.9525 - recall: 0.9452 - val_loss: 2.2725 - val_accuracy: 0.5012 - val_precision: 0.5046 - val_recall: 0.4964\n",
            "Epoch 6/30\n",
            "53/53 [==============================] - 11s 214ms/step - loss: 0.0603 - accuracy: 0.9797 - precision: 0.9811 - recall: 0.9788 - val_loss: 2.9759 - val_accuracy: 0.4531 - val_precision: 0.4542 - val_recall: 0.4495\n",
            "Epoch 7/30\n",
            "53/53 [==============================] - 12s 220ms/step - loss: 0.0345 - accuracy: 0.9911 - precision: 0.9911 - recall: 0.9908 - val_loss: 2.5961 - val_accuracy: 0.5216 - val_precision: 0.5224 - val_recall: 0.5192\n",
            "Epoch 8/30\n",
            "53/53 [==============================] - 11s 214ms/step - loss: 0.0169 - accuracy: 0.9958 - precision: 0.9958 - recall: 0.9958 - val_loss: 2.7812 - val_accuracy: 0.5228 - val_precision: 0.5251 - val_recall: 0.5216\n",
            "Epoch 9/30\n",
            "53/53 [==============================] - 12s 218ms/step - loss: 0.0037 - accuracy: 0.9997 - precision: 0.9997 - recall: 0.9997 - val_loss: 2.9168 - val_accuracy: 0.5457 - val_precision: 0.5473 - val_recall: 0.5427\n",
            "Epoch 10/30\n",
            "53/53 [==============================] - 11s 213ms/step - loss: 0.0012 - accuracy: 1.0000 - precision: 1.0000 - recall: 1.0000 - val_loss: 3.0586 - val_accuracy: 0.5493 - val_precision: 0.5515 - val_recall: 0.5475\n",
            "Epoch 11/30\n",
            "53/53 [==============================] - 12s 220ms/step - loss: 6.8196e-04 - accuracy: 1.0000 - precision: 1.0000 - recall: 1.0000 - val_loss: 3.1419 - val_accuracy: 0.5517 - val_precision: 0.5530 - val_recall: 0.5487\n",
            "Epoch 12/30\n",
            "53/53 [==============================] - 11s 211ms/step - loss: 4.7808e-04 - accuracy: 1.0000 - precision: 1.0000 - recall: 1.0000 - val_loss: 3.1889 - val_accuracy: 0.5505 - val_precision: 0.5532 - val_recall: 0.5499\n",
            "Epoch 13/30\n",
            "53/53 [==============================] - 11s 215ms/step - loss: 3.7464e-04 - accuracy: 1.0000 - precision: 1.0000 - recall: 1.0000 - val_loss: 3.2759 - val_accuracy: 0.5505 - val_precision: 0.5526 - val_recall: 0.5493\n",
            "Epoch 14/30\n",
            "53/53 [==============================] - 11s 212ms/step - loss: 3.0970e-04 - accuracy: 1.0000 - precision: 1.0000 - recall: 1.0000 - val_loss: 3.3734 - val_accuracy: 0.5469 - val_precision: 0.5490 - val_recall: 0.5457\n",
            "Epoch 15/30\n",
            "53/53 [==============================] - 11s 216ms/step - loss: 2.6553e-04 - accuracy: 1.0000 - precision: 1.0000 - recall: 1.0000 - val_loss: 3.4205 - val_accuracy: 0.5487 - val_precision: 0.5513 - val_recall: 0.5487\n",
            "Epoch 16/30\n",
            "53/53 [==============================] - 11s 216ms/step - loss: 2.2338e-04 - accuracy: 1.0000 - precision: 1.0000 - recall: 1.0000 - val_loss: 3.4850 - val_accuracy: 0.5499 - val_precision: 0.5507 - val_recall: 0.5481\n",
            "Epoch 17/30\n",
            "53/53 [==============================] - 11s 214ms/step - loss: 1.9486e-04 - accuracy: 1.0000 - precision: 1.0000 - recall: 1.0000 - val_loss: 3.5352 - val_accuracy: 0.5499 - val_precision: 0.5505 - val_recall: 0.5469\n",
            "Epoch 18/30\n",
            "53/53 [==============================] - 11s 213ms/step - loss: 1.6922e-04 - accuracy: 1.0000 - precision: 1.0000 - recall: 1.0000 - val_loss: 3.5444 - val_accuracy: 0.5553 - val_precision: 0.5560 - val_recall: 0.5523\n",
            "Epoch 19/30\n",
            "53/53 [==============================] - 11s 217ms/step - loss: 1.4750e-04 - accuracy: 1.0000 - precision: 1.0000 - recall: 1.0000 - val_loss: 3.5807 - val_accuracy: 0.5571 - val_precision: 0.5580 - val_recall: 0.5553\n",
            "Epoch 20/30\n",
            "53/53 [==============================] - 11s 214ms/step - loss: 1.2913e-04 - accuracy: 1.0000 - precision: 1.0000 - recall: 1.0000 - val_loss: 3.6408 - val_accuracy: 0.5535 - val_precision: 0.5535 - val_recall: 0.5505\n",
            "Epoch 21/30\n",
            "53/53 [==============================] - 11s 213ms/step - loss: 1.1646e-04 - accuracy: 1.0000 - precision: 1.0000 - recall: 1.0000 - val_loss: 3.6718 - val_accuracy: 0.5565 - val_precision: 0.5565 - val_recall: 0.5535\n",
            "Epoch 22/30\n",
            "53/53 [==============================] - 11s 213ms/step - loss: 1.0332e-04 - accuracy: 1.0000 - precision: 1.0000 - recall: 1.0000 - val_loss: 3.7127 - val_accuracy: 0.5553 - val_precision: 0.5561 - val_recall: 0.5541\n",
            "Epoch 23/30\n",
            "53/53 [==============================] - 11s 212ms/step - loss: 9.3972e-05 - accuracy: 1.0000 - precision: 1.0000 - recall: 1.0000 - val_loss: 3.7549 - val_accuracy: 0.5535 - val_precision: 0.5546 - val_recall: 0.5523\n",
            "Epoch 24/30\n",
            "53/53 [==============================] - 11s 213ms/step - loss: 8.3064e-05 - accuracy: 1.0000 - precision: 1.0000 - recall: 1.0000 - val_loss: 3.7992 - val_accuracy: 0.5547 - val_precision: 0.5550 - val_recall: 0.5523\n",
            "Epoch 25/30\n",
            "53/53 [==============================] - 11s 215ms/step - loss: 7.5289e-05 - accuracy: 1.0000 - precision: 1.0000 - recall: 1.0000 - val_loss: 3.8291 - val_accuracy: 0.5553 - val_precision: 0.5555 - val_recall: 0.5535\n",
            "Epoch 26/30\n",
            "53/53 [==============================] - 11s 212ms/step - loss: 7.0711e-05 - accuracy: 1.0000 - precision: 1.0000 - recall: 1.0000 - val_loss: 3.8883 - val_accuracy: 0.5517 - val_precision: 0.5516 - val_recall: 0.5493\n",
            "Epoch 27/30\n",
            "53/53 [==============================] - 11s 211ms/step - loss: 6.4694e-05 - accuracy: 1.0000 - precision: 1.0000 - recall: 1.0000 - val_loss: 3.8887 - val_accuracy: 0.5571 - val_precision: 0.5589 - val_recall: 0.5559\n",
            "Epoch 28/30\n",
            "53/53 [==============================] - 11s 213ms/step - loss: 5.8107e-05 - accuracy: 1.0000 - precision: 1.0000 - recall: 1.0000 - val_loss: 3.8909 - val_accuracy: 0.5565 - val_precision: 0.5582 - val_recall: 0.5559\n",
            "Epoch 29/30\n",
            "53/53 [==============================] - 11s 214ms/step - loss: 5.3296e-05 - accuracy: 1.0000 - precision: 1.0000 - recall: 1.0000 - val_loss: 3.9440 - val_accuracy: 0.5565 - val_precision: 0.5558 - val_recall: 0.5541\n",
            "Epoch 30/30\n",
            "53/53 [==============================] - 11s 213ms/step - loss: 4.9458e-05 - accuracy: 1.0000 - precision: 1.0000 - recall: 1.0000 - val_loss: 3.9380 - val_accuracy: 0.5589 - val_precision: 0.5591 - val_recall: 0.5571\n"
          ]
        }
      ]
    },
    {
      "cell_type": "code",
      "metadata": {
        "id": "iq52IHqZT2_8"
      },
      "source": [
        "acc = history.history['accuracy']\n",
        "val_acc = history.history['val_accuracy']\n",
        "\n",
        "loss = history.history['loss']\n",
        "val_loss = history.history['val_loss']\n",
        "\n",
        "prec = history.history['precision']\n",
        "val_prec = history.history['val_precision']\n",
        "\n",
        "recall = history.history['recall']\n",
        "val_recall = history.history['val_recall']\n",
        "\n",
        "epochs_range = range(30)"
      ],
      "execution_count": 12,
      "outputs": []
    },
    {
      "cell_type": "code",
      "metadata": {
        "colab": {
          "base_uri": "https://localhost:8080/",
          "height": 516
        },
        "id": "JeuVJrFwe2ky",
        "outputId": "e8fe972b-f0ec-4868-fad1-458d47e9cdb8"
      },
      "source": [
        "plt.figure(figsize=(12, 8))\n",
        "plt.plot(epochs_range, acc, label='Training Accuracy')\n",
        "plt.plot(epochs_range, val_acc, label='Validation Accuracy')\n",
        "plt.title('Training and Validation Accuracy')\n",
        "plt.legend()"
      ],
      "execution_count": 13,
      "outputs": [
        {
          "output_type": "execute_result",
          "data": {
            "text/plain": [
              "<matplotlib.legend.Legend at 0x7fdc7a376450>"
            ]
          },
          "metadata": {},
          "execution_count": 13
        },
        {
          "output_type": "display_data",
          "data": {
            "image/png": "[encoded data removed]",
            "text/plain": [
              "<Figure size 864x576 with 1 Axes>"
            ]
          },
          "metadata": {
            "needs_background": "light"
          }
        }
      ]
    },
    {
      "cell_type": "code",
      "metadata": {
        "colab": {
          "base_uri": "https://localhost:8080/",
          "height": 516
        },
        "id": "DIX3LqW3fU2H",
        "outputId": "f5f62d83-ade2-48a8-f004-7ef220b887b6"
      },
      "source": [
        "plt.figure(figsize=(12, 8))\n",
        "plt.plot(epochs_range, loss, label='Training Loss')\n",
        "plt.plot(epochs_range, val_loss, label='Validation Loss')\n",
        "plt.title('Training and Validation Loss')\n",
        "plt.legend()"
      ],
      "execution_count": 14,
      "outputs": [
        {
          "output_type": "execute_result",
          "data": {
            "text/plain": [
              "<matplotlib.legend.Legend at 0x7fdbee7725d0>"
            ]
          },
          "metadata": {},
          "execution_count": 14
        },
        {
          "output_type": "display_data",
          "data": {
            "image/png": "[encoded data removed]",
            "text/plain": [
              "<Figure size 864x576 with 1 Axes>"
            ]
          },
          "metadata": {
            "needs_background": "light"
          }
        }
      ]
    },
    {
      "cell_type": "code",
      "metadata": {
        "colab": {
          "base_uri": "https://localhost:8080/",
          "height": 516
        },
        "id": "rq6s0lq3fjPH",
        "outputId": "82e79d94-fdc7-4fab-8839-67fbcd1dee5b"
      },
      "source": [
        "plt.figure(figsize=(12, 8))\n",
        "plt.plot(epochs_range, prec, label='Training Precision')\n",
        "plt.plot(epochs_range, val_prec, label='Validation Precision')\n",
        "plt.title('Training and Validation Precision')\n",
        "plt.legend()"
      ],
      "execution_count": 15,
      "outputs": [
        {
          "output_type": "execute_result",
          "data": {
            "text/plain": [
              "<matplotlib.legend.Legend at 0x7fdbee16aad0>"
            ]
          },
          "metadata": {},
          "execution_count": 15
        },
        {
          "output_type": "display_data",
          "data": {
            "image/png": "[encoded data removed]",
            "text/plain": [
              "<Figure size 864x576 with 1 Axes>"
            ]
          },
          "metadata": {
            "needs_background": "light"
          }
        }
      ]
    },
    {
      "cell_type": "code",
      "metadata": {
        "colab": {
          "base_uri": "https://localhost:8080/",
          "height": 516
        },
        "id": "9xdf8Fq2fsOc",
        "outputId": "15158b50-8050-47b3-edb8-6840b6e4fa04"
      },
      "source": [
        "plt.figure(figsize=(12, 8))\n",
        "plt.plot(epochs_range, recall, label='Training Recall')\n",
        "plt.plot(epochs_range, val_recall, label='Validation Recall')\n",
        "plt.title('Training and Validation Recall')\n",
        "plt.legend()"
      ],
      "execution_count": 16,
      "outputs": [
        {
          "output_type": "execute_result",
          "data": {
            "text/plain": [
              "<matplotlib.legend.Legend at 0x7fdbee087b50>"
            ]
          },
          "metadata": {},
          "execution_count": 16
        },
        {
          "output_type": "display_data",
          "data": {
            "image/png": "[encoded data removed]",
            "text/plain": [
              "<Figure size 864x576 with 1 Axes>"
            ]
          },
          "metadata": {
            "needs_background": "light"
          }
        }
      ]
    },
    {
      "cell_type": "markdown",
      "metadata": {
        "id": "QLSoP0Qy0IbQ"
      },
      "source": [
        "Based on all the charts, this initial model is severly overfit. After about 8 epochs the model stops improving. Model is slightly better than the base model with the best Accuracy score at about 56%, the best Precision and Recall at about 56% as well."
      ]
    },
    {
      "cell_type": "code",
      "metadata": {
        "id": "0RoGAyBEgIdy"
      },
      "source": [
        ""
      ],
      "execution_count": null,
      "outputs": []
    }
  ]
}